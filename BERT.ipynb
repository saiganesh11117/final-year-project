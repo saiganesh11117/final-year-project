{
  "cells": [
    {
      "cell_type": "code",
      "execution_count": null,
      "metadata": {
        "colab": {
          "base_uri": "https://localhost:8080/"
        },
        "id": "i6nWxpW5JaZq",
        "outputId": "d9ed56a0-41a8-4131-d227-16129a0a6948"
      },
      "outputs": [
        {
          "output_type": "stream",
          "name": "stdout",
          "text": [
            "Looking in indexes: https://pypi.org/simple, https://us-python.pkg.dev/colab-wheels/public/simple/\n",
            "Collecting bert-extractive-summarizer\n",
            "  Downloading bert_extractive_summarizer-0.10.1-py3-none-any.whl (25 kB)\n",
            "Requirement already satisfied: spacy in /usr/local/lib/python3.8/dist-packages (from bert-extractive-summarizer) (3.4.4)\n",
            "Collecting transformers\n",
            "  Downloading transformers-4.26.1-py3-none-any.whl (6.3 MB)\n",
            "\u001b[2K     \u001b[90m━━━━━━━━━━━━━━━━━━━━━━━━━━━━━━━━━━━━━━━━\u001b[0m \u001b[32m6.3/6.3 MB\u001b[0m \u001b[31m39.6 MB/s\u001b[0m eta \u001b[36m0:00:00\u001b[0m\n",
            "\u001b[?25hRequirement already satisfied: scikit-learn in /usr/local/lib/python3.8/dist-packages (from bert-extractive-summarizer) (1.0.2)\n",
            "Requirement already satisfied: scipy>=1.1.0 in /usr/local/lib/python3.8/dist-packages (from scikit-learn->bert-extractive-summarizer) (1.7.3)\n",
            "Requirement already satisfied: joblib>=0.11 in /usr/local/lib/python3.8/dist-packages (from scikit-learn->bert-extractive-summarizer) (1.2.0)\n",
            "Requirement already satisfied: numpy>=1.14.6 in /usr/local/lib/python3.8/dist-packages (from scikit-learn->bert-extractive-summarizer) (1.21.6)\n",
            "Requirement already satisfied: threadpoolctl>=2.0.0 in /usr/local/lib/python3.8/dist-packages (from scikit-learn->bert-extractive-summarizer) (3.1.0)\n",
            "Requirement already satisfied: requests<3.0.0,>=2.13.0 in /usr/local/lib/python3.8/dist-packages (from spacy->bert-extractive-summarizer) (2.25.1)\n",
            "Requirement already satisfied: typer<0.8.0,>=0.3.0 in /usr/local/lib/python3.8/dist-packages (from spacy->bert-extractive-summarizer) (0.7.0)\n",
            "Requirement already satisfied: murmurhash<1.1.0,>=0.28.0 in /usr/local/lib/python3.8/dist-packages (from spacy->bert-extractive-summarizer) (1.0.9)\n",
            "Requirement already satisfied: thinc<8.2.0,>=8.1.0 in /usr/local/lib/python3.8/dist-packages (from spacy->bert-extractive-summarizer) (8.1.7)\n",
            "Requirement already satisfied: langcodes<4.0.0,>=3.2.0 in /usr/local/lib/python3.8/dist-packages (from spacy->bert-extractive-summarizer) (3.3.0)\n",
            "Requirement already satisfied: spacy-loggers<2.0.0,>=1.0.0 in /usr/local/lib/python3.8/dist-packages (from spacy->bert-extractive-summarizer) (1.0.4)\n",
            "Requirement already satisfied: pathy>=0.3.5 in /usr/local/lib/python3.8/dist-packages (from spacy->bert-extractive-summarizer) (0.10.1)\n",
            "Requirement already satisfied: setuptools in /usr/local/lib/python3.8/dist-packages (from spacy->bert-extractive-summarizer) (57.4.0)\n",
            "Requirement already satisfied: spacy-legacy<3.1.0,>=3.0.10 in /usr/local/lib/python3.8/dist-packages (from spacy->bert-extractive-summarizer) (3.0.12)\n",
            "Requirement already satisfied: preshed<3.1.0,>=3.0.2 in /usr/local/lib/python3.8/dist-packages (from spacy->bert-extractive-summarizer) (3.0.8)\n",
            "Requirement already satisfied: pydantic!=1.8,!=1.8.1,<1.11.0,>=1.7.4 in /usr/local/lib/python3.8/dist-packages (from spacy->bert-extractive-summarizer) (1.10.4)\n",
            "Requirement already satisfied: tqdm<5.0.0,>=4.38.0 in /usr/local/lib/python3.8/dist-packages (from spacy->bert-extractive-summarizer) (4.64.1)\n",
            "Requirement already satisfied: jinja2 in /usr/local/lib/python3.8/dist-packages (from spacy->bert-extractive-summarizer) (2.11.3)\n",
            "Requirement already satisfied: srsly<3.0.0,>=2.4.3 in /usr/local/lib/python3.8/dist-packages (from spacy->bert-extractive-summarizer) (2.4.5)\n",
            "Requirement already satisfied: wasabi<1.1.0,>=0.9.1 in /usr/local/lib/python3.8/dist-packages (from spacy->bert-extractive-summarizer) (0.10.1)\n",
            "Requirement already satisfied: cymem<2.1.0,>=2.0.2 in /usr/local/lib/python3.8/dist-packages (from spacy->bert-extractive-summarizer) (2.0.7)\n",
            "Requirement already satisfied: smart-open<7.0.0,>=5.2.1 in /usr/local/lib/python3.8/dist-packages (from spacy->bert-extractive-summarizer) (6.3.0)\n",
            "Requirement already satisfied: packaging>=20.0 in /usr/local/lib/python3.8/dist-packages (from spacy->bert-extractive-summarizer) (23.0)\n",
            "Requirement already satisfied: catalogue<2.1.0,>=2.0.6 in /usr/local/lib/python3.8/dist-packages (from spacy->bert-extractive-summarizer) (2.0.8)\n",
            "Requirement already satisfied: filelock in /usr/local/lib/python3.8/dist-packages (from transformers->bert-extractive-summarizer) (3.9.0)\n",
            "Requirement already satisfied: regex!=2019.12.17 in /usr/local/lib/python3.8/dist-packages (from transformers->bert-extractive-summarizer) (2022.6.2)\n",
            "Collecting tokenizers!=0.11.3,<0.14,>=0.11.1\n",
            "  Downloading tokenizers-0.13.2-cp38-cp38-manylinux_2_17_x86_64.manylinux2014_x86_64.whl (7.6 MB)\n",
            "\u001b[2K     \u001b[90m━━━━━━━━━━━━━━━━━━━━━━━━━━━━━━━━━━━━━━━━\u001b[0m \u001b[32m7.6/7.6 MB\u001b[0m \u001b[31m59.0 MB/s\u001b[0m eta \u001b[36m0:00:00\u001b[0m\n",
            "\u001b[?25hRequirement already satisfied: pyyaml>=5.1 in /usr/local/lib/python3.8/dist-packages (from transformers->bert-extractive-summarizer) (6.0)\n",
            "Collecting huggingface-hub<1.0,>=0.11.0\n",
            "  Downloading huggingface_hub-0.12.0-py3-none-any.whl (190 kB)\n",
            "\u001b[2K     \u001b[90m━━━━━━━━━━━━━━━━━━━━━━━━━━━━━━━━━━━━━━\u001b[0m \u001b[32m190.3/190.3 KB\u001b[0m \u001b[31m12.7 MB/s\u001b[0m eta \u001b[36m0:00:00\u001b[0m\n",
            "\u001b[?25hRequirement already satisfied: typing-extensions>=3.7.4.3 in /usr/local/lib/python3.8/dist-packages (from huggingface-hub<1.0,>=0.11.0->transformers->bert-extractive-summarizer) (4.4.0)\n",
            "Requirement already satisfied: chardet<5,>=3.0.2 in /usr/local/lib/python3.8/dist-packages (from requests<3.0.0,>=2.13.0->spacy->bert-extractive-summarizer) (4.0.0)\n",
            "Requirement already satisfied: certifi>=2017.4.17 in /usr/local/lib/python3.8/dist-packages (from requests<3.0.0,>=2.13.0->spacy->bert-extractive-summarizer) (2022.12.7)\n",
            "Requirement already satisfied: urllib3<1.27,>=1.21.1 in /usr/local/lib/python3.8/dist-packages (from requests<3.0.0,>=2.13.0->spacy->bert-extractive-summarizer) (1.24.3)\n",
            "Requirement already satisfied: idna<3,>=2.5 in /usr/local/lib/python3.8/dist-packages (from requests<3.0.0,>=2.13.0->spacy->bert-extractive-summarizer) (2.10)\n",
            "Requirement already satisfied: blis<0.8.0,>=0.7.8 in /usr/local/lib/python3.8/dist-packages (from thinc<8.2.0,>=8.1.0->spacy->bert-extractive-summarizer) (0.7.9)\n",
            "Requirement already satisfied: confection<1.0.0,>=0.0.1 in /usr/local/lib/python3.8/dist-packages (from thinc<8.2.0,>=8.1.0->spacy->bert-extractive-summarizer) (0.0.4)\n",
            "Requirement already satisfied: click<9.0.0,>=7.1.1 in /usr/local/lib/python3.8/dist-packages (from typer<0.8.0,>=0.3.0->spacy->bert-extractive-summarizer) (7.1.2)\n",
            "Requirement already satisfied: MarkupSafe>=0.23 in /usr/local/lib/python3.8/dist-packages (from jinja2->spacy->bert-extractive-summarizer) (2.0.1)\n",
            "Installing collected packages: tokenizers, huggingface-hub, transformers, bert-extractive-summarizer\n",
            "Successfully installed bert-extractive-summarizer-0.10.1 huggingface-hub-0.12.0 tokenizers-0.13.2 transformers-4.26.1\n"
          ]
        }
      ],
      "source": [
        "pip install bert-extractive-summarizer"
      ]
    },
    {
      "cell_type": "code",
      "execution_count": null,
      "metadata": {
        "colab": {
          "base_uri": "https://localhost:8080/"
        },
        "id": "YTBsxONOJqCt",
        "outputId": "e180ff42-51b3-4b65-957b-7802d5bc85bd"
      },
      "outputs": [
        {
          "output_type": "stream",
          "name": "stdout",
          "text": [
            "Mounted at /content/gdrive\n"
          ]
        }
      ],
      "source": [
        "from google.colab import drive\n",
        "drive.mount('/content/gdrive')"
      ]
    },
    {
      "cell_type": "code",
      "execution_count": null,
      "metadata": {
        "id": "PsNDHUMSJ72Z"
      },
      "outputs": [],
      "source": [
        "with open(\"/content/gdrive/MyDrive/project/story.txt\") as f:\n",
        "  body = f.read()"
      ]
    },
    {
      "cell_type": "code",
      "execution_count": null,
      "metadata": {
        "colab": {
          "base_uri": "https://localhost:8080/",
          "height": 123
        },
        "id": "gunJ1N6wKKlc",
        "outputId": "381cb275-4ffe-4c74-c9e2-8ac46d8fdc2d"
      },
      "outputs": [
        {
          "output_type": "execute_result",
          "data": {
            "text/plain": [
              "'\\nIN WHICH PHILEAS FOGG AND PASSEPARTOUT ACCEPT EACH OTHER,\\nTHE ONE AS MASTER, THE OTHER AS MAN\\n\\n\\nMr. Phileas Fogg lived, in 1872, at No. 7, Saville Row, Burlington\\nGardens, the house in which Sheridan died in 1814.  He was one of the\\nmost noticeable members of the Reform Club, though he seemed always to\\navoid attracting attention; an enigmatical personage, about whom little\\nwas known, except that he was a polished man of the world.  People said\\nthat he resembled Byron--at least that his head was Byronic; but he was\\na bearded, tranquil Byron, who might live on a thousand years without\\ngrowing old.\\n\\nCertainly an Englishman, it was more doubtful whether Phileas Fogg was\\na Londoner.  He was never seen on \\'Change, nor at the Bank, nor in the\\ncounting-rooms of the \"City\"; no ships ever came into London docks of\\nwhich he was the owner; he had no public employment; he had never been\\nentered at any of the Inns of Court, either at the Temple, or Lincoln\\'s\\nInn, or Gray\\'s Inn; nor had his voice ever resounded in the Court of\\nChancery, or in the Exchequer, or the Queen\\'s Bench, or the\\nEcclesiastical Courts.  He certainly was not a manufacturer; nor was he\\na merchant or a gentleman farmer.  His name was strange to the\\nscientific and learned societies, and he never was known to take part\\nin the sage deliberations of the Royal Institution or the London\\nInstitution, the Artisan\\'s Association, or the Institution of Arts and\\nSciences.  He belonged, in fact, to none of the numerous societies\\nwhich swarm in the English capital, from the Harmonic to that of the\\nEntomologists, founded mainly for the purpose of abolishing pernicious\\ninsects.\\n\\nPhileas Fogg was a member of the Reform, and that was all.\\n\\nThe way in which he got admission to this exclusive club was simple\\nenough.\\n\\nHe was recommended by the Barings, with whom he had an open credit.\\nHis cheques were regularly paid at sight from his account current,\\nwhich was always flush.\\n\\nWas Phileas Fogg rich?  Undoubtedly.  But those who knew him best could\\nnot imagine how he had made his fortune, and Mr. Fogg was the last\\nperson to whom to apply for the information.  He was not lavish, nor,\\non the contrary, avaricious; for, whenever he knew that money was\\nneeded for a noble, useful, or benevolent purpose, he supplied it\\nquietly and sometimes anonymously.  He was, in short, the least\\ncommunicative of men.  He talked very little, and seemed all the more\\nmysterious for his taciturn manner.  His daily habits were quite open\\nto observation; but whatever he did was so exactly the same thing that\\nhe had always done before, that the wits of the curious were fairly\\npuzzled.\\n\\nHad he travelled?  It was likely, for no one seemed to know the world\\nmore familiarly; there was no spot so secluded that he did not appear\\nto have an intimate acquaintance with it.  He often corrected, with a\\nfew clear words, the thousand conjectures advanced by members of the\\nclub as to lost and unheard-of travellers, pointing out the true\\nprobabilities, and seeming as if gifted with a sort of second sight, so\\noften did events justify his predictions.  He must have travelled\\neverywhere, at least in the spirit.\\n\\nIt was at least certain that Phileas Fogg had not absented himself from\\nLondon for many years.  Those who were honoured by a better\\nacquaintance with him than the rest, declared that nobody could pretend\\nto have ever seen him anywhere else.  His sole pastimes were reading\\nthe papers and playing whist.  He often won at this game, which, as a\\nsilent one, harmonised with his nature; but his winnings never went\\ninto his purse, being reserved as a fund for his charities.  Mr. Fogg\\nplayed, not to win, but for the sake of playing.  The game was in his\\neyes a contest, a struggle with a difficulty, yet a motionless,\\nunwearying struggle, congenial to his tastes.\\n\\nPhileas Fogg was not known to have either wife or children, which may\\nhappen to the most honest people; either relatives or near friends,\\nwhich is certainly more unusual.  He lived alone in his house in\\nSaville Row, whither none penetrated.  A single domestic sufficed to\\nserve him.  He breakfasted and dined at the club, at hours\\nmathematically fixed, in the same room, at the same table, never taking\\nhis meals with other members, much less bringing a guest with him; and\\nwent home at exactly midnight, only to retire at once to bed.  He never\\nused the cosy chambers which the Reform provides for its favoured\\nmembers.  He passed ten hours out of the twenty-four in Saville Row,\\neither in sleeping or making his toilet.  When he chose to take a walk\\nit was with a regular step in the entrance hall with its mosaic\\nflooring, or in the circular gallery with its dome supported by twenty\\nred porphyry Ionic columns, and illumined by blue painted windows.\\nWhen he breakfasted or dined all the resources of the club--its\\nkitchens and pantries, its buttery and dairy--aided to crowd his table\\nwith their most succulent stores; he was served by the gravest waiters,\\nin dress coats, and shoes with swan-skin soles, who proffered the\\nviands in special porcelain, and on the finest linen; club decanters,\\nof a lost mould, contained his sherry, his port, and his\\ncinnamon-spiced claret; while his beverages were refreshingly cooled\\nwith ice, brought at great cost from the American lakes.\\n\\nIf to live in this style is to be eccentric, it must be confessed that\\nthere is something good in eccentricity.\\n\\nThe mansion in Saville Row, though not sumptuous, was exceedingly\\ncomfortable.  The habits of its occupant were such as to demand but\\nlittle from the sole domestic, but Phileas Fogg required him to be\\nalmost superhumanly prompt and regular.  On this very 2nd of October he\\nhad dismissed James Forster, because that luckless youth had brought\\nhim shaving-water at eighty-four degrees Fahrenheit instead of\\neighty-six; and he was awaiting his successor, who was due at the house\\nbetween eleven and half-past.\\n\\nPhileas Fogg was seated squarely in his armchair, his feet close\\ntogether like those of a grenadier on parade, his hands resting on his\\nknees, his body straight, his head erect; he was steadily watching a\\ncomplicated clock which indicated the hours, the minutes, the seconds,\\nthe days, the months, and the years.  At exactly half-past eleven Mr.\\nFogg would, according to his daily habit, quit Saville Row, and repair\\nto the Reform.\\n\\nA rap at this moment sounded on the door of the cosy apartment where\\nPhileas Fogg was seated, and James Forster, the dismissed servant,\\nappeared.\\n\\n\"The new servant,\" said he.\\n\\nA young man of thirty advanced and bowed.\\n\\n\"You are a Frenchman, I believe,\" asked Phileas Fogg, \"and your name is\\nJohn?\"\\n\\n\"Jean, if monsieur pleases,\" replied the newcomer, \"Jean Passepartout,\\na surname which has clung to me because I have a natural aptness for\\ngoing out of one business into another.  I believe I\\'m honest,\\nmonsieur, but, to be outspoken, I\\'ve had several trades.  I\\'ve been an\\nitinerant singer, a circus-rider, when I used to vault like Leotard,\\nand dance on a rope like Blondin.  Then I got to be a professor of\\ngymnastics, so as to make better use of my talents; and then I was a\\nsergeant fireman at Paris, and assisted at many a big fire.  But I\\nquitted France five years ago, and, wishing to taste the sweets of\\ndomestic life, took service as a valet here in England.  Finding myself\\nout of place, and hearing that Monsieur Phileas Fogg was the most exact\\nand settled gentleman in the United Kingdom, I have come to monsieur in\\nthe hope of living with him a tranquil life, and forgetting even the\\nname of Passepartout.\"\\n\\n\"Passepartout suits me,\" responded Mr. Fogg.  \"You are well recommended\\nto me; I hear a good report of you.  You know my conditions?\"\\n\\n\"Yes, monsieur.\"\\n\\n\"Good!  What time is it?\"\\n\\n\"Twenty-two minutes after eleven,\" returned Passepartout, drawing an\\nenormous silver watch from the depths of his pocket.\\n\\n\"You are too slow,\" said Mr. Fogg.\\n\\n\"Pardon me, monsieur, it is impossible--\"\\n\\n\"You are four minutes too slow.  No matter; it\\'s enough to mention the\\nerror.  Now from this moment, twenty-nine minutes after eleven, a.m.,\\nthis Wednesday, 2nd October, you are in my service.\"\\n\\nPhileas Fogg got up, took his hat in his left hand, put it on his head\\nwith an automatic motion, and went off without a word.\\n\\nPassepartout heard the street door shut once; it was his new master\\ngoing out.  He heard it shut again; it was his predecessor, James\\nForster, departing in his turn.  Passepartout remained alone in the\\nhouse in Saville Row.'"
            ],
            "application/vnd.google.colaboratory.intrinsic+json": {
              "type": "string"
            }
          },
          "metadata": {},
          "execution_count": 4
        }
      ],
      "source": [
        "body"
      ]
    },
    {
      "cell_type": "code",
      "execution_count": null,
      "metadata": {
        "colab": {
          "base_uri": "https://localhost:8080/",
          "height": 357,
          "referenced_widgets": [
            "b3412aa2d0804137b5d59f190be4125c",
            "a70fa78e0c014b4585295fc5734f14b0",
            "da996c6d7bab45f38ca5adf948d5d5e7",
            "d14c799c61f340e2af405c38144b5b16",
            "da8ec4871a884e81875a1747c9127d20",
            "d6971ac036934394aa49cb41efb8fbe6",
            "346e9e3c612440b1b329620a9ab98621",
            "bfa70b51ad9d479dbf9d02abfc610c80",
            "f677cf124049459e903445c7f13ab24d",
            "9c5ee193661c4f4f80402128cd69b067",
            "bb737cfddfa74151b5cf3b47562078c1",
            "31c6f4a2fcb04d818e1f996d6440a654",
            "11c3f081d1b04a409c273bc4225999aa",
            "29b2efebe9964670a32faf99aded4bf3",
            "b137346dc2334ac08b81c4f3376973f3",
            "ab8e374222c5444c8d10280848792814",
            "dabe805e2a4a4493bafbc424ee2dabd6",
            "e51d8edfd56943e7adc10895c2b4fa4a",
            "7627f7f742424a46996ebe4a926963cb",
            "0a0bd1708cd946e2ae93f727e6f1ad1a",
            "afe3756f7c734da197013b458e987b43",
            "7b62d9807d494281b13f0cf542106283",
            "edc49eabccb1420a8b92c0fdd5fa9192",
            "89dc8e15ed0a4c07ab6bc0d1e133e6f1",
            "d02bf7a3a47b471e833db4c52b0bc75c",
            "939dc24e4d3a48549ef3e0d5c3c0c42a",
            "ab6ed0e2ac4d47bebb13e93acaaec096",
            "c5ead0f1451944749a310444dcc02d8f",
            "d5842cbe1f814617bb2646a45d472079",
            "f71ac8244965457faf810943975e4a49",
            "3bde4318c6b2432aa120bffbc11e7a86",
            "c01663bfca574eddb884023de56fdce4",
            "b6d32b77f3df43309e775c9f26ae4370",
            "7a9880f22602408ca11d35982190e0d7",
            "2336aff1cee14605b525203d55bfdab5",
            "24386cca5fe04ddeba071e28f3e057f9",
            "63675895948d4770b0e76332b8a3fed8",
            "cf61e81735f4413da98413bb8d2d2e7f",
            "6fc793bc6c39471a84344da32f44f83f",
            "5673942281b447ca82ea3110c0ca8dab",
            "5258ffd6ed094d3489d6749535206461",
            "f19f64900af841989cfd9cd73238daf3",
            "ada1e9b9e2714ee2b153484c8e770b21",
            "ac25dcfef17b424295a9510d27c9d53a"
          ]
        },
        "id": "ViBM7IljKMec",
        "outputId": "bf992056-4ed1-44c6-8f62-2803d20e485f"
      },
      "outputs": [
        {
          "output_type": "stream",
          "name": "stderr",
          "text": [
            "/usr/local/lib/python3.8/dist-packages/torch/cuda/__init__.py:497: UserWarning: Can't initialize NVML\n",
            "  warnings.warn(\"Can't initialize NVML\")\n"
          ]
        },
        {
          "output_type": "display_data",
          "data": {
            "text/plain": [
              "Downloading (…)lve/main/config.json:   0%|          | 0.00/571 [00:00<?, ?B/s]"
            ],
            "application/vnd.jupyter.widget-view+json": {
              "version_major": 2,
              "version_minor": 0,
              "model_id": "b3412aa2d0804137b5d59f190be4125c"
            }
          },
          "metadata": {}
        },
        {
          "output_type": "display_data",
          "data": {
            "text/plain": [
              "Downloading (…)\"pytorch_model.bin\";:   0%|          | 0.00/1.34G [00:00<?, ?B/s]"
            ],
            "application/vnd.jupyter.widget-view+json": {
              "version_major": 2,
              "version_minor": 0,
              "model_id": "31c6f4a2fcb04d818e1f996d6440a654"
            }
          },
          "metadata": {}
        },
        {
          "output_type": "stream",
          "name": "stderr",
          "text": [
            "Some weights of the model checkpoint at bert-large-uncased were not used when initializing BertModel: ['cls.predictions.transform.LayerNorm.bias', 'cls.predictions.transform.LayerNorm.weight', 'cls.predictions.bias', 'cls.predictions.transform.dense.weight', 'cls.seq_relationship.weight', 'cls.seq_relationship.bias', 'cls.predictions.decoder.weight', 'cls.predictions.transform.dense.bias']\n",
            "- This IS expected if you are initializing BertModel from the checkpoint of a model trained on another task or with another architecture (e.g. initializing a BertForSequenceClassification model from a BertForPreTraining model).\n",
            "- This IS NOT expected if you are initializing BertModel from the checkpoint of a model that you expect to be exactly identical (initializing a BertForSequenceClassification model from a BertForSequenceClassification model).\n"
          ]
        },
        {
          "output_type": "display_data",
          "data": {
            "text/plain": [
              "Downloading (…)solve/main/vocab.txt:   0%|          | 0.00/232k [00:00<?, ?B/s]"
            ],
            "application/vnd.jupyter.widget-view+json": {
              "version_major": 2,
              "version_minor": 0,
              "model_id": "edc49eabccb1420a8b92c0fdd5fa9192"
            }
          },
          "metadata": {}
        },
        {
          "output_type": "display_data",
          "data": {
            "text/plain": [
              "Downloading (…)okenizer_config.json:   0%|          | 0.00/28.0 [00:00<?, ?B/s]"
            ],
            "application/vnd.jupyter.widget-view+json": {
              "version_major": 2,
              "version_minor": 0,
              "model_id": "7a9880f22602408ca11d35982190e0d7"
            }
          },
          "metadata": {}
        },
        {
          "output_type": "execute_result",
          "data": {
            "text/plain": [
              "'IN WHICH PHILEAS FOGG AND PASSEPARTOUT ACCEPT EACH OTHER,\\nTHE ONE AS MASTER, THE OTHER AS MAN\\n\\n\\nMr. Phileas Fogg lived, in 1872, at No. He was one of the\\nmost noticeable members of the Reform Club, though he seemed always to\\navoid attracting attention; an enigmatical personage, about whom little\\nwas known, except that he was a polished man of the world. Certainly an Englishman, it was more doubtful whether Phileas Fogg was\\na Londoner. His cheques were regularly paid at sight from his account current,\\nwhich was always flush. But those who knew him best could\\nnot imagine how he had made his fortune, and Mr. Fogg was the last\\nperson to whom to apply for the information. Phileas Fogg was not known to have either wife or children, which may\\nhappen to the most honest people; either relatives or near friends,\\nwhich is certainly more unusual. On this very 2nd of October he\\nhad dismissed James Forster, because that luckless youth had brought\\nhim shaving-water at eighty-four degrees Fahrenheit instead of\\neighty-six; and he was awaiting his successor, who was due at the house\\nbetween eleven and half-past. At exactly half-past eleven Mr.\\nFogg would, according to his daily habit, quit Saville Row, and repair\\nto the Reform. A young man of thirty advanced and bowed. \"You are well recommended\\nto me; I hear a good report of you. \"Twenty-two minutes after eleven,\" returned Passepartout, drawing an\\nenormous silver watch from the depths of his pocket. \"Pardon me, monsieur, it is impossible--\"\\n\\n\"You are four minutes too slow.'"
            ],
            "application/vnd.google.colaboratory.intrinsic+json": {
              "type": "string"
            }
          },
          "metadata": {},
          "execution_count": 5
        }
      ],
      "source": [
        "from summarizer import Summarizer\n",
        "model = Summarizer()\n",
        "s = model(body)\n",
        "s"
      ]
    },
    {
      "cell_type": "code",
      "source": [
        "print(s)"
      ],
      "metadata": {
        "id": "Hk7iXRERn9X7",
        "outputId": "ec8ba463-cbf1-4618-bf2b-d58babe19eb1",
        "colab": {
          "base_uri": "https://localhost:8080/"
        }
      },
      "execution_count": null,
      "outputs": [
        {
          "output_type": "stream",
          "name": "stdout",
          "text": [
            "IN WHICH PHILEAS FOGG AND PASSEPARTOUT ACCEPT EACH OTHER,\n",
            "THE ONE AS MASTER, THE OTHER AS MAN\n",
            "\n",
            "\n",
            "Mr. Phileas Fogg lived, in 1872, at No. He was one of the\n",
            "most noticeable members of the Reform Club, though he seemed always to\n",
            "avoid attracting attention; an enigmatical personage, about whom little\n",
            "was known, except that he was a polished man of the world. Certainly an Englishman, it was more doubtful whether Phileas Fogg was\n",
            "a Londoner. His cheques were regularly paid at sight from his account current,\n",
            "which was always flush. But those who knew him best could\n",
            "not imagine how he had made his fortune, and Mr. Fogg was the last\n",
            "person to whom to apply for the information. Phileas Fogg was not known to have either wife or children, which may\n",
            "happen to the most honest people; either relatives or near friends,\n",
            "which is certainly more unusual. On this very 2nd of October he\n",
            "had dismissed James Forster, because that luckless youth had brought\n",
            "him shaving-water at eighty-four degrees Fahrenheit instead of\n",
            "eighty-six; and he was awaiting his successor, who was due at the house\n",
            "between eleven and half-past. At exactly half-past eleven Mr.\n",
            "Fogg would, according to his daily habit, quit Saville Row, and repair\n",
            "to the Reform. A young man of thirty advanced and bowed. \"You are well recommended\n",
            "to me; I hear a good report of you. \"Twenty-two minutes after eleven,\" returned Passepartout, drawing an\n",
            "enormous silver watch from the depths of his pocket. \"Pardon me, monsieur, it is impossible--\"\n",
            "\n",
            "\"You are four minutes too slow.\n"
          ]
        }
      ]
    },
    {
      "cell_type": "code",
      "execution_count": null,
      "metadata": {
        "colab": {
          "base_uri": "https://localhost:8080/"
        },
        "id": "IBQ6rKSlKU-v",
        "outputId": "e30c39a1-fd86-4047-b019-633b31bea3ac"
      },
      "outputs": [
        {
          "output_type": "stream",
          "name": "stderr",
          "text": [
            "Some weights of the model checkpoint at bert-large-uncased were not used when initializing BertModel: ['cls.predictions.transform.LayerNorm.bias', 'cls.predictions.transform.LayerNorm.weight', 'cls.predictions.bias', 'cls.predictions.transform.dense.weight', 'cls.seq_relationship.weight', 'cls.seq_relationship.bias', 'cls.predictions.decoder.weight', 'cls.predictions.transform.dense.bias']\n",
            "- This IS expected if you are initializing BertModel from the checkpoint of a model trained on another task or with another architecture (e.g. initializing a BertForSequenceClassification model from a BertForPreTraining model).\n",
            "- This IS NOT expected if you are initializing BertModel from the checkpoint of a model that you expect to be exactly identical (initializing a BertForSequenceClassification model from a BertForSequenceClassification model).\n"
          ]
        }
      ],
      "source": [
        "from summarizer import Summarizer\n",
        "model = Summarizer()\n",
        "result = model(body, ratio=0.2)"
      ]
    },
    {
      "cell_type": "code",
      "source": [
        "import spacy\n",
        "nlp = spacy.load('en_core_web_sm')\n",
        "doc1 = nlp(u'/content/gdrive/MyDrive/project/sum.txt')\n",
        "doc2 = nlp(u'/content/gdrive/MyDrive/project/s.txt')\n",
        "n = (doc1.similarity(doc2))\n",
        "print(n*100)"
      ],
      "metadata": {
        "colab": {
          "base_uri": "https://localhost:8080/"
        },
        "id": "v9MrkjdTP1dO",
        "outputId": "93d44516-f9b2-47b6-fee0-99b3d1933d08"
      },
      "execution_count": null,
      "outputs": [
        {
          "output_type": "stream",
          "name": "stdout",
          "text": [
            "98.03130391522967\n"
          ]
        },
        {
          "output_type": "stream",
          "name": "stderr",
          "text": [
            "<ipython-input-8-fec3c94b5da7>:5: UserWarning: [W007] The model you're using has no word vectors loaded, so the result of the Doc.similarity method will be based on the tagger, parser and NER, which may not give useful similarity judgements. This may happen if you're using one of the small models, e.g. `en_core_web_sm`, which don't ship with word vectors and only use context-sensitive tensors. You can always add your own word vectors, or use one of the larger models instead if available.\n",
            "  n = (doc1.similarity(doc2))\n"
          ]
        }
      ]
    },
    {
      "cell_type": "code",
      "source": [
        "import spacy\n",
        "nlp = spacy.load('en_core_web_sm')\n",
        "doc1 = nlp(u'/content/gdrive/MyDrive/project/sum2.0.txt')\n",
        "doc2 = nlp(u'/content/gdrive/MyDrive/project/s.txt')\n",
        "n = (doc1.similarity(doc2))\n",
        "print(n*100)"
      ],
      "metadata": {
        "id": "2EtWDcXXWznE",
        "colab": {
          "base_uri": "https://localhost:8080/"
        },
        "outputId": "b2fddbe7-1042-49a9-f68e-9b09e3cdcf16"
      },
      "execution_count": null,
      "outputs": [
        {
          "output_type": "stream",
          "name": "stdout",
          "text": [
            "98.94338889776989\n"
          ]
        },
        {
          "output_type": "stream",
          "name": "stderr",
          "text": [
            "<ipython-input-9-f489459953bc>:5: UserWarning: [W007] The model you're using has no word vectors loaded, so the result of the Doc.similarity method will be based on the tagger, parser and NER, which may not give useful similarity judgements. This may happen if you're using one of the small models, e.g. `en_core_web_sm`, which don't ship with word vectors and only use context-sensitive tensors. You can always add your own word vectors, or use one of the larger models instead if available.\n",
            "  n = (doc1.similarity(doc2))\n"
          ]
        }
      ]
    },
    {
      "cell_type": "code",
      "source": [
        "import spacy\n",
        "nlp = spacy.load('en_core_web_sm')\n",
        "doc1 = nlp(u'/content/gdrive/MyDrive/project/sum3.0.txt')\n",
        "doc2 = nlp(u'/content/gdrive/MyDrive/project/s.txt')\n",
        "n = (doc1.similarity(doc2))\n",
        "print(n*100)"
      ],
      "metadata": {
        "colab": {
          "base_uri": "https://localhost:8080/"
        },
        "id": "rAQOJnxfYR6S",
        "outputId": "b9e388fa-2e0d-4eaa-d628-391cc3234426"
      },
      "execution_count": null,
      "outputs": [
        {
          "output_type": "stream",
          "name": "stdout",
          "text": [
            "97.54694065087781\n"
          ]
        },
        {
          "output_type": "stream",
          "name": "stderr",
          "text": [
            "<ipython-input-10-91c040229c5b>:5: UserWarning: [W007] The model you're using has no word vectors loaded, so the result of the Doc.similarity method will be based on the tagger, parser and NER, which may not give useful similarity judgements. This may happen if you're using one of the small models, e.g. `en_core_web_sm`, which don't ship with word vectors and only use context-sensitive tensors. You can always add your own word vectors, or use one of the larger models instead if available.\n",
            "  n = (doc1.similarity(doc2))\n"
          ]
        }
      ]
    },
    {
      "cell_type": "code",
      "source": [
        "\n",
        "import numpy as np\n",
        "import matplotlib.pyplot as plt\n",
        "\n",
        "BERT = [98.03130391522967, 98.94338889776989, 97.54694065087781]\n",
        "GENSIM = [96.86042555640647, 96.58570072709288, 95.64002132655324]\n",
        "\n",
        "n=3\n",
        "r = np.arange(n)\n",
        "width = 0.25\n",
        "\n",
        "\n",
        "plt.bar(r, BERT, color = 'b',\n",
        "\t\twidth = width, edgecolor = 'black',\n",
        "\t\tlabel='BERT')\n",
        "plt.bar(r + width, GENSIM, color = 'g',\n",
        "\t\twidth = width, edgecolor = 'black',\n",
        "\t\tlabel='GENSIM')\n",
        "\n",
        "plt.xlabel(\"Algorithms\")\n",
        "plt.ylabel(\"Accuracy percentage\")\n",
        "plt.title(\"Comparision graph\")\n",
        "\n",
        "# plt.grid(linestyle='--')\n",
        "plt.xticks(r + width/2,['Dataset 1','Dataset 2','Dataset 3'])\n",
        "plt.legend()\n",
        "\n",
        "plt.show()\n"
      ],
      "metadata": {
        "colab": {
          "base_uri": "https://localhost:8080/",
          "height": 295
        },
        "id": "EQyTIkgR7-qX",
        "outputId": "fbde37c6-ba19-40f6-9e18-3a38532d565b"
      },
      "execution_count": null,
      "outputs": [
        {
          "output_type": "display_data",
          "data": {
            "text/plain": [
              "<Figure size 432x288 with 1 Axes>"
            ],
            "image/png": "[encoded data removed]"
          },
          "metadata": {
            "needs_background": "light"
          }
        }
      ]
    },
    {
      "cell_type": "code",
      "source": [
        "import numpy as np\n",
        "import matplotlib.pyplot as plt\n",
        "\n",
        "BERT = [98.03130391522967, 98.94338889776989, 97.54694065087781]\n",
        "TF_IDF = [91.64122586156742, 92.82686450448708, 89.35790484316595]\n",
        "\n",
        "n=3\n",
        "r = np.arange(n)\n",
        "width = 0.25\n",
        "\n",
        "\n",
        "plt.bar(r, BERT, color = 'b',\n",
        "\t\twidth = width, edgecolor = 'black',\n",
        "\t\tlabel='BERT')\n",
        "plt.bar(r + width, TF_IDF, color = 'g',\n",
        "\t\twidth = width, edgecolor = 'black',\n",
        "\t\tlabel='TF_IDF')\n",
        "\n",
        "plt.xlabel(\"Algorithms\")\n",
        "plt.ylabel(\"Accuracy percentage\")\n",
        "plt.title(\"Comparision graph\")\n",
        "\n",
        "# plt.grid(linestyle='--')\n",
        "plt.xticks(r + width/2,['Dataset 1','Dataset 2','Dataset 3'])\n",
        "plt.legend()\n",
        "\n",
        "plt.show()"
      ],
      "metadata": {
        "colab": {
          "base_uri": "https://localhost:8080/",
          "height": 295
        },
        "id": "mb5jK11Z8YLU",
        "outputId": "0c50f8ec-da1b-4c27-81e4-1fd7f97116f1"
      },
      "execution_count": null,
      "outputs": [
        {
          "output_type": "display_data",
          "data": {
            "text/plain": [
              "<Figure size 432x288 with 1 Axes>"
            ],
            "image/png": "[encoded data removed]"
          },
          "metadata": {
            "needs_background": "light"
          }
        }
      ]
    },
    {
      "cell_type": "code",
      "source": [
        "import numpy as np\n",
        "import matplotlib.pyplot as plt\n",
        "\n",
        "BERT = [98.03130391522967, 98.94338889776989, 97.54694065087781]\n",
        "Contextual_Embeddings = [94.20991285532648, 95.48153854870543, 93.44686882194137]\n",
        "\n",
        "n=3\n",
        "r = np.arange(n)\n",
        "width = 0.25\n",
        "\n",
        "\n",
        "plt.bar(r, BERT, color = 'b',\n",
        "\t\twidth = width, edgecolor = 'black',\n",
        "\t\tlabel='BERT')\n",
        "plt.bar(r + width, Contextual_Embeddings, color = 'g',\n",
        "\t\twidth = width, edgecolor = 'black',\n",
        "\t\tlabel='Contextual_Embeddings')\n",
        "\n",
        "plt.xlabel(\"Algorithms\")\n",
        "plt.ylabel(\"Accuracy percentage\")\n",
        "plt.title(\"Comparision graph\")\n",
        "\n",
        "# plt.grid(linestyle='--')\n",
        "plt.xticks(r + width/2,['Dataset 1','Dataset 2','Dataset 3'])\n",
        "plt.legend()\n",
        "\n",
        "plt.show()"
      ],
      "metadata": {
        "colab": {
          "base_uri": "https://localhost:8080/",
          "height": 295
        },
        "id": "DgC9L_iA-SPE",
        "outputId": "74d6ab80-4eb8-47d5-d610-63e8adb49031"
      },
      "execution_count": null,
      "outputs": [
        {
          "output_type": "display_data",
          "data": {
            "text/plain": [
              "<Figure size 432x288 with 1 Axes>"
            ],
            "image/png": "[encoded data removed]"
          },
          "metadata": {
            "needs_background": "light"
          }
        }
      ]
    },
    {
      "cell_type": "code",
      "source": [
        "import numpy as np\n",
        "import matplotlib.pyplot as plt\n",
        "\n",
        "BERT = [98.03130391522967, 98.94338889776989, 97.54694065087781]\n",
        "PageRank = [97.6822554014052, 98.07579614544817, 96.41563318472308]\n",
        "\n",
        "n=3\n",
        "r = np.arange(n)\n",
        "width = 0.25\n",
        "\n",
        "\n",
        "plt.bar(r, BERT, color = 'b',\n",
        "\t\twidth = width, edgecolor = 'black',\n",
        "\t\tlabel='BERT')\n",
        "plt.bar(r + width, PageRank, color = 'g',\n",
        "\t\twidth = width, edgecolor = 'black',\n",
        "\t\tlabel='PageRank')\n",
        "\n",
        "plt.xlabel(\"Algorithms\")\n",
        "plt.ylabel(\"Accuracy percentage\")\n",
        "plt.title(\"Comparision graph\")\n",
        "\n",
        "# plt.grid(linestyle='--')\n",
        "plt.xticks(r + width/2,['Dataset 1','Dataset 2','Dataset 3'])\n",
        "plt.legend()\n",
        "\n",
        "plt.show()"
      ],
      "metadata": {
        "colab": {
          "base_uri": "https://localhost:8080/",
          "height": 295
        },
        "id": "iy8b5eVw-xZi",
        "outputId": "4097b0f6-89f1-4457-d413-110facdf4292"
      },
      "execution_count": null,
      "outputs": [
        {
          "output_type": "display_data",
          "data": {
            "text/plain": [
              "<Figure size 432x288 with 1 Axes>"
            ],
            "image/png": "[encoded data removed]"
          },
          "metadata": {
            "needs_background": "light"
          }
        }
      ]
    },
    {
      "cell_type": "code",
      "source": [],
      "metadata": {
        "id": "PaN1-lGf_Xto"
      },
      "execution_count": null,
      "outputs": []
    }
  ],
  "metadata": {
    "colab": {
      "provenance": []
    },
    "kernelspec": {
      "display_name": "Python 3",
      "name": "python3"
    },
    "language_info": {
      "name": "python"
    },
    "widgets": {
      "application/vnd.jupyter.widget-state+json": {
        "b3412aa2d0804137b5d59f190be4125c": {
          "model_module": "@jupyter-widgets/controls",
          "model_name": "HBoxModel",
          "model_module_version": "1.5.0",
          "state": {
            "_dom_classes": [],
            "_model_module": "@jupyter-widgets/controls",
            "_model_module_version": "1.5.0",
            "_model_name": "HBoxModel",
            "_view_count": null,
            "_view_module": "@jupyter-widgets/controls",
            "_view_module_version": "1.5.0",
            "_view_name": "HBoxView",
            "box_style": "",
            "children": [
              "IPY_MODEL_a70fa78e0c014b4585295fc5734f14b0",
              "IPY_MODEL_da996c6d7bab45f38ca5adf948d5d5e7",
              "IPY_MODEL_d14c799c61f340e2af405c38144b5b16"
            ],
            "layout": "IPY_MODEL_da8ec4871a884e81875a1747c9127d20"
          }
        },
        "a70fa78e0c014b4585295fc5734f14b0": {
          "model_module": "@jupyter-widgets/controls",
          "model_name": "HTMLModel",
          "model_module_version": "1.5.0",
          "state": {
            "_dom_classes": [],
            "_model_module": "@jupyter-widgets/controls",
            "_model_module_version": "1.5.0",
            "_model_name": "HTMLModel",
            "_view_count": null,
            "_view_module": "@jupyter-widgets/controls",
            "_view_module_version": "1.5.0",
            "_view_name": "HTMLView",
            "description": "",
            "description_tooltip": null,
            "layout": "IPY_MODEL_d6971ac036934394aa49cb41efb8fbe6",
            "placeholder": "​",
            "style": "IPY_MODEL_346e9e3c612440b1b329620a9ab98621",
            "value": "Downloading (…)lve/main/config.json: 100%"
          }
        },
        "da996c6d7bab45f38ca5adf948d5d5e7": {
          "model_module": "@jupyter-widgets/controls",
          "model_name": "FloatProgressModel",
          "model_module_version": "1.5.0",
          "state": {
            "_dom_classes": [],
            "_model_module": "@jupyter-widgets/controls",
            "_model_module_version": "1.5.0",
            "_model_name": "FloatProgressModel",
            "_view_count": null,
            "_view_module": "@jupyter-widgets/controls",
            "_view_module_version": "1.5.0",
            "_view_name": "ProgressView",
            "bar_style": "success",
            "description": "",
            "description_tooltip": null,
            "layout": "IPY_MODEL_bfa70b51ad9d479dbf9d02abfc610c80",
            "max": 571,
            "min": 0,
            "orientation": "horizontal",
            "style": "IPY_MODEL_f677cf124049459e903445c7f13ab24d",
            "value": 571
          }
        },
        "d14c799c61f340e2af405c38144b5b16": {
          "model_module": "@jupyter-widgets/controls",
          "model_name": "HTMLModel",
          "model_module_version": "1.5.0",
          "state": {
            "_dom_classes": [],
            "_model_module": "@jupyter-widgets/controls",
            "_model_module_version": "1.5.0",
            "_model_name": "HTMLModel",
            "_view_count": null,
            "_view_module": "@jupyter-widgets/controls",
            "_view_module_version": "1.5.0",
            "_view_name": "HTMLView",
            "description": "",
            "description_tooltip": null,
            "layout": "IPY_MODEL_9c5ee193661c4f4f80402128cd69b067",
            "placeholder": "​",
            "style": "IPY_MODEL_bb737cfddfa74151b5cf3b47562078c1",
            "value": " 571/571 [00:00&lt;00:00, 4.29kB/s]"
          }
        },
        "da8ec4871a884e81875a1747c9127d20": {
          "model_module": "@jupyter-widgets/base",
          "model_name": "LayoutModel",
          "model_module_version": "1.2.0",
          "state": {
            "_model_module": "@jupyter-widgets/base",
            "_model_module_version": "1.2.0",
            "_model_name": "LayoutModel",
            "_view_count": null,
            "_view_module": "@jupyter-widgets/base",
            "_view_module_version": "1.2.0",
            "_view_name": "LayoutView",
            "align_content": null,
            "align_items": null,
            "align_self": null,
            "border": null,
            "bottom": null,
            "display": null,
            "flex": null,
            "flex_flow": null,
            "grid_area": null,
            "grid_auto_columns": null,
            "grid_auto_flow": null,
            "grid_auto_rows": null,
            "grid_column": null,
            "grid_gap": null,
            "grid_row": null,
            "grid_template_areas": null,
            "grid_template_columns": null,
            "grid_template_rows": null,
            "height": null,
            "justify_content": null,
            "justify_items": null,
            "left": null,
            "margin": null,
            "max_height": null,
            "max_width": null,
            "min_height": null,
            "min_width": null,
            "object_fit": null,
            "object_position": null,
            "order": null,
            "overflow": null,
            "overflow_x": null,
            "overflow_y": null,
            "padding": null,
            "right": null,
            "top": null,
            "visibility": null,
            "width": null
          }
        },
        "d6971ac036934394aa49cb41efb8fbe6": {
          "model_module": "@jupyter-widgets/base",
          "model_name": "LayoutModel",
          "model_module_version": "1.2.0",
          "state": {
            "_model_module": "@jupyter-widgets/base",
            "_model_module_version": "1.2.0",
            "_model_name": "LayoutModel",
            "_view_count": null,
            "_view_module": "@jupyter-widgets/base",
            "_view_module_version": "1.2.0",
            "_view_name": "LayoutView",
            "align_content": null,
            "align_items": null,
            "align_self": null,
            "border": null,
            "bottom": null,
            "display": null,
            "flex": null,
            "flex_flow": null,
            "grid_area": null,
            "grid_auto_columns": null,
            "grid_auto_flow": null,
            "grid_auto_rows": null,
            "grid_column": null,
            "grid_gap": null,
            "grid_row": null,
            "grid_template_areas": null,
            "grid_template_columns": null,
            "grid_template_rows": null,
            "height": null,
            "justify_content": null,
            "justify_items": null,
            "left": null,
            "margin": null,
            "max_height": null,
            "max_width": null,
            "min_height": null,
            "min_width": null,
            "object_fit": null,
            "object_position": null,
            "order": null,
            "overflow": null,
            "overflow_x": null,
            "overflow_y": null,
            "padding": null,
            "right": null,
            "top": null,
            "visibility": null,
            "width": null
          }
        },
        "346e9e3c612440b1b329620a9ab98621": {
          "model_module": "@jupyter-widgets/controls",
          "model_name": "DescriptionStyleModel",
          "model_module_version": "1.5.0",
          "state": {
            "_model_module": "@jupyter-widgets/controls",
            "_model_module_version": "1.5.0",
            "_model_name": "DescriptionStyleModel",
            "_view_count": null,
            "_view_module": "@jupyter-widgets/base",
            "_view_module_version": "1.2.0",
            "_view_name": "StyleView",
            "description_width": ""
          }
        },
        "bfa70b51ad9d479dbf9d02abfc610c80": {
          "model_module": "@jupyter-widgets/base",
          "model_name": "LayoutModel",
          "model_module_version": "1.2.0",
          "state": {
            "_model_module": "@jupyter-widgets/base",
            "_model_module_version": "1.2.0",
            "_model_name": "LayoutModel",
            "_view_count": null,
            "_view_module": "@jupyter-widgets/base",
            "_view_module_version": "1.2.0",
            "_view_name": "LayoutView",
            "align_content": null,
            "align_items": null,
            "align_self": null,
            "border": null,
            "bottom": null,
            "display": null,
            "flex": null,
            "flex_flow": null,
            "grid_area": null,
            "grid_auto_columns": null,
            "grid_auto_flow": null,
            "grid_auto_rows": null,
            "grid_column": null,
            "grid_gap": null,
            "grid_row": null,
            "grid_template_areas": null,
            "grid_template_columns": null,
            "grid_template_rows": null,
            "height": null,
            "justify_content": null,
            "justify_items": null,
            "left": null,
            "margin": null,
            "max_height": null,
            "max_width": null,
            "min_height": null,
            "min_width": null,
            "object_fit": null,
            "object_position": null,
            "order": null,
            "overflow": null,
            "overflow_x": null,
            "overflow_y": null,
            "padding": null,
            "right": null,
            "top": null,
            "visibility": null,
            "width": null
          }
        },
        "f677cf124049459e903445c7f13ab24d": {
          "model_module": "@jupyter-widgets/controls",
          "model_name": "ProgressStyleModel",
          "model_module_version": "1.5.0",
          "state": {
            "_model_module": "@jupyter-widgets/controls",
            "_model_module_version": "1.5.0",
            "_model_name": "ProgressStyleModel",
            "_view_count": null,
            "_view_module": "@jupyter-widgets/base",
            "_view_module_version": "1.2.0",
            "_view_name": "StyleView",
            "bar_color": null,
            "description_width": ""
          }
        },
        "9c5ee193661c4f4f80402128cd69b067": {
          "model_module": "@jupyter-widgets/base",
          "model_name": "LayoutModel",
          "model_module_version": "1.2.0",
          "state": {
            "_model_module": "@jupyter-widgets/base",
            "_model_module_version": "1.2.0",
            "_model_name": "LayoutModel",
            "_view_count": null,
            "_view_module": "@jupyter-widgets/base",
            "_view_module_version": "1.2.0",
            "_view_name": "LayoutView",
            "align_content": null,
            "align_items": null,
            "align_self": null,
            "border": null,
            "bottom": null,
            "display": null,
            "flex": null,
            "flex_flow": null,
            "grid_area": null,
            "grid_auto_columns": null,
            "grid_auto_flow": null,
            "grid_auto_rows": null,
            "grid_column": null,
            "grid_gap": null,
            "grid_row": null,
            "grid_template_areas": null,
            "grid_template_columns": null,
            "grid_template_rows": null,
            "height": null,
            "justify_content": null,
            "justify_items": null,
            "left": null,
            "margin": null,
            "max_height": null,
            "max_width": null,
            "min_height": null,
            "min_width": null,
            "object_fit": null,
            "object_position": null,
            "order": null,
            "overflow": null,
            "overflow_x": null,
            "overflow_y": null,
            "padding": null,
            "right": null,
            "top": null,
            "visibility": null,
            "width": null
          }
        },
        "bb737cfddfa74151b5cf3b47562078c1": {
          "model_module": "@jupyter-widgets/controls",
          "model_name": "DescriptionStyleModel",
          "model_module_version": "1.5.0",
          "state": {
            "_model_module": "@jupyter-widgets/controls",
            "_model_module_version": "1.5.0",
            "_model_name": "DescriptionStyleModel",
            "_view_count": null,
            "_view_module": "@jupyter-widgets/base",
            "_view_module_version": "1.2.0",
            "_view_name": "StyleView",
            "description_width": ""
          }
        },
        "31c6f4a2fcb04d818e1f996d6440a654": {
          "model_module": "@jupyter-widgets/controls",
          "model_name": "HBoxModel",
          "model_module_version": "1.5.0",
          "state": {
            "_dom_classes": [],
            "_model_module": "@jupyter-widgets/controls",
            "_model_module_version": "1.5.0",
            "_model_name": "HBoxModel",
            "_view_count": null,
            "_view_module": "@jupyter-widgets/controls",
            "_view_module_version": "1.5.0",
            "_view_name": "HBoxView",
            "box_style": "",
            "children": [
              "IPY_MODEL_11c3f081d1b04a409c273bc4225999aa",
              "IPY_MODEL_29b2efebe9964670a32faf99aded4bf3",
              "IPY_MODEL_b137346dc2334ac08b81c4f3376973f3"
            ],
            "layout": "IPY_MODEL_ab8e374222c5444c8d10280848792814"
          }
        },
        "11c3f081d1b04a409c273bc4225999aa": {
          "model_module": "@jupyter-widgets/controls",
          "model_name": "HTMLModel",
          "model_module_version": "1.5.0",
          "state": {
            "_dom_classes": [],
            "_model_module": "@jupyter-widgets/controls",
            "_model_module_version": "1.5.0",
            "_model_name": "HTMLModel",
            "_view_count": null,
            "_view_module": "@jupyter-widgets/controls",
            "_view_module_version": "1.5.0",
            "_view_name": "HTMLView",
            "description": "",
            "description_tooltip": null,
            "layout": "IPY_MODEL_dabe805e2a4a4493bafbc424ee2dabd6",
            "placeholder": "​",
            "style": "IPY_MODEL_e51d8edfd56943e7adc10895c2b4fa4a",
            "value": "Downloading (…)&quot;pytorch_model.bin&quot;;: 100%"
          }
        },
        "29b2efebe9964670a32faf99aded4bf3": {
          "model_module": "@jupyter-widgets/controls",
          "model_name": "FloatProgressModel",
          "model_module_version": "1.5.0",
          "state": {
            "_dom_classes": [],
            "_model_module": "@jupyter-widgets/controls",
            "_model_module_version": "1.5.0",
            "_model_name": "FloatProgressModel",
            "_view_count": null,
            "_view_module": "@jupyter-widgets/controls",
            "_view_module_version": "1.5.0",
            "_view_name": "ProgressView",
            "bar_style": "success",
            "description": "",
            "description_tooltip": null,
            "layout": "IPY_MODEL_7627f7f742424a46996ebe4a926963cb",
            "max": 1344997306,
            "min": 0,
            "orientation": "horizontal",
            "style": "IPY_MODEL_0a0bd1708cd946e2ae93f727e6f1ad1a",
            "value": 1344997306
          }
        },
        "b137346dc2334ac08b81c4f3376973f3": {
          "model_module": "@jupyter-widgets/controls",
          "model_name": "HTMLModel",
          "model_module_version": "1.5.0",
          "state": {
            "_dom_classes": [],
            "_model_module": "@jupyter-widgets/controls",
            "_model_module_version": "1.5.0",
            "_model_name": "HTMLModel",
            "_view_count": null,
            "_view_module": "@jupyter-widgets/controls",
            "_view_module_version": "1.5.0",
            "_view_name": "HTMLView",
            "description": "",
            "description_tooltip": null,
            "layout": "IPY_MODEL_afe3756f7c734da197013b458e987b43",
            "placeholder": "​",
            "style": "IPY_MODEL_7b62d9807d494281b13f0cf542106283",
            "value": " 1.34G/1.34G [00:14&lt;00:00, 102MB/s]"
          }
        },
        "ab8e374222c5444c8d10280848792814": {
          "model_module": "@jupyter-widgets/base",
          "model_name": "LayoutModel",
          "model_module_version": "1.2.0",
          "state": {
            "_model_module": "@jupyter-widgets/base",
            "_model_module_version": "1.2.0",
            "_model_name": "LayoutModel",
            "_view_count": null,
            "_view_module": "@jupyter-widgets/base",
            "_view_module_version": "1.2.0",
            "_view_name": "LayoutView",
            "align_content": null,
            "align_items": null,
            "align_self": null,
            "border": null,
            "bottom": null,
            "display": null,
            "flex": null,
            "flex_flow": null,
            "grid_area": null,
            "grid_auto_columns": null,
            "grid_auto_flow": null,
            "grid_auto_rows": null,
            "grid_column": null,
            "grid_gap": null,
            "grid_row": null,
            "grid_template_areas": null,
            "grid_template_columns": null,
            "grid_template_rows": null,
            "height": null,
            "justify_content": null,
            "justify_items": null,
            "left": null,
            "margin": null,
            "max_height": null,
            "max_width": null,
            "min_height": null,
            "min_width": null,
            "object_fit": null,
            "object_position": null,
            "order": null,
            "overflow": null,
            "overflow_x": null,
            "overflow_y": null,
            "padding": null,
            "right": null,
            "top": null,
            "visibility": null,
            "width": null
          }
        },
        "dabe805e2a4a4493bafbc424ee2dabd6": {
          "model_module": "@jupyter-widgets/base",
          "model_name": "LayoutModel",
          "model_module_version": "1.2.0",
          "state": {
            "_model_module": "@jupyter-widgets/base",
            "_model_module_version": "1.2.0",
            "_model_name": "LayoutModel",
            "_view_count": null,
            "_view_module": "@jupyter-widgets/base",
            "_view_module_version": "1.2.0",
            "_view_name": "LayoutView",
            "align_content": null,
            "align_items": null,
            "align_self": null,
            "border": null,
            "bottom": null,
            "display": null,
            "flex": null,
            "flex_flow": null,
            "grid_area": null,
            "grid_auto_columns": null,
            "grid_auto_flow": null,
            "grid_auto_rows": null,
            "grid_column": null,
            "grid_gap": null,
            "grid_row": null,
            "grid_template_areas": null,
            "grid_template_columns": null,
            "grid_template_rows": null,
            "height": null,
            "justify_content": null,
            "justify_items": null,
            "left": null,
            "margin": null,
            "max_height": null,
            "max_width": null,
            "min_height": null,
            "min_width": null,
            "object_fit": null,
            "object_position": null,
            "order": null,
            "overflow": null,
            "overflow_x": null,
            "overflow_y": null,
            "padding": null,
            "right": null,
            "top": null,
            "visibility": null,
            "width": null
          }
        },
        "e51d8edfd56943e7adc10895c2b4fa4a": {
          "model_module": "@jupyter-widgets/controls",
          "model_name": "DescriptionStyleModel",
          "model_module_version": "1.5.0",
          "state": {
            "_model_module": "@jupyter-widgets/controls",
            "_model_module_version": "1.5.0",
            "_model_name": "DescriptionStyleModel",
            "_view_count": null,
            "_view_module": "@jupyter-widgets/base",
            "_view_module_version": "1.2.0",
            "_view_name": "StyleView",
            "description_width": ""
          }
        },
        "7627f7f742424a46996ebe4a926963cb": {
          "model_module": "@jupyter-widgets/base",
          "model_name": "LayoutModel",
          "model_module_version": "1.2.0",
          "state": {
            "_model_module": "@jupyter-widgets/base",
            "_model_module_version": "1.2.0",
            "_model_name": "LayoutModel",
            "_view_count": null,
            "_view_module": "@jupyter-widgets/base",
            "_view_module_version": "1.2.0",
            "_view_name": "LayoutView",
            "align_content": null,
            "align_items": null,
            "align_self": null,
            "border": null,
            "bottom": null,
            "display": null,
            "flex": null,
            "flex_flow": null,
            "grid_area": null,
            "grid_auto_columns": null,
            "grid_auto_flow": null,
            "grid_auto_rows": null,
            "grid_column": null,
            "grid_gap": null,
            "grid_row": null,
            "grid_template_areas": null,
            "grid_template_columns": null,
            "grid_template_rows": null,
            "height": null,
            "justify_content": null,
            "justify_items": null,
            "left": null,
            "margin": null,
            "max_height": null,
            "max_width": null,
            "min_height": null,
            "min_width": null,
            "object_fit": null,
            "object_position": null,
            "order": null,
            "overflow": null,
            "overflow_x": null,
            "overflow_y": null,
            "padding": null,
            "right": null,
            "top": null,
            "visibility": null,
            "width": null
          }
        },
        "0a0bd1708cd946e2ae93f727e6f1ad1a": {
          "model_module": "@jupyter-widgets/controls",
          "model_name": "ProgressStyleModel",
          "model_module_version": "1.5.0",
          "state": {
            "_model_module": "@jupyter-widgets/controls",
            "_model_module_version": "1.5.0",
            "_model_name": "ProgressStyleModel",
            "_view_count": null,
            "_view_module": "@jupyter-widgets/base",
            "_view_module_version": "1.2.0",
            "_view_name": "StyleView",
            "bar_color": null,
            "description_width": ""
          }
        },
        "afe3756f7c734da197013b458e987b43": {
          "model_module": "@jupyter-widgets/base",
          "model_name": "LayoutModel",
          "model_module_version": "1.2.0",
          "state": {
            "_model_module": "@jupyter-widgets/base",
            "_model_module_version": "1.2.0",
            "_model_name": "LayoutModel",
            "_view_count": null,
            "_view_module": "@jupyter-widgets/base",
            "_view_module_version": "1.2.0",
            "_view_name": "LayoutView",
            "align_content": null,
            "align_items": null,
            "align_self": null,
            "border": null,
            "bottom": null,
            "display": null,
            "flex": null,
            "flex_flow": null,
            "grid_area": null,
            "grid_auto_columns": null,
            "grid_auto_flow": null,
            "grid_auto_rows": null,
            "grid_column": null,
            "grid_gap": null,
            "grid_row": null,
            "grid_template_areas": null,
            "grid_template_columns": null,
            "grid_template_rows": null,
            "height": null,
            "justify_content": null,
            "justify_items": null,
            "left": null,
            "margin": null,
            "max_height": null,
            "max_width": null,
            "min_height": null,
            "min_width": null,
            "object_fit": null,
            "object_position": null,
            "order": null,
            "overflow": null,
            "overflow_x": null,
            "overflow_y": null,
            "padding": null,
            "right": null,
            "top": null,
            "visibility": null,
            "width": null
          }
        },
        "7b62d9807d494281b13f0cf542106283": {
          "model_module": "@jupyter-widgets/controls",
          "model_name": "DescriptionStyleModel",
          "model_module_version": "1.5.0",
          "state": {
            "_model_module": "@jupyter-widgets/controls",
            "_model_module_version": "1.5.0",
            "_model_name": "DescriptionStyleModel",
            "_view_count": null,
            "_view_module": "@jupyter-widgets/base",
            "_view_module_version": "1.2.0",
            "_view_name": "StyleView",
            "description_width": ""
          }
        },
        "edc49eabccb1420a8b92c0fdd5fa9192": {
          "model_module": "@jupyter-widgets/controls",
          "model_name": "HBoxModel",
          "model_module_version": "1.5.0",
          "state": {
            "_dom_classes": [],
            "_model_module": "@jupyter-widgets/controls",
            "_model_module_version": "1.5.0",
            "_model_name": "HBoxModel",
            "_view_count": null,
            "_view_module": "@jupyter-widgets/controls",
            "_view_module_version": "1.5.0",
            "_view_name": "HBoxView",
            "box_style": "",
            "children": [
              "IPY_MODEL_89dc8e15ed0a4c07ab6bc0d1e133e6f1",
              "IPY_MODEL_d02bf7a3a47b471e833db4c52b0bc75c",
              "IPY_MODEL_939dc24e4d3a48549ef3e0d5c3c0c42a"
            ],
            "layout": "IPY_MODEL_ab6ed0e2ac4d47bebb13e93acaaec096"
          }
        },
        "89dc8e15ed0a4c07ab6bc0d1e133e6f1": {
          "model_module": "@jupyter-widgets/controls",
          "model_name": "HTMLModel",
          "model_module_version": "1.5.0",
          "state": {
            "_dom_classes": [],
            "_model_module": "@jupyter-widgets/controls",
            "_model_module_version": "1.5.0",
            "_model_name": "HTMLModel",
            "_view_count": null,
            "_view_module": "@jupyter-widgets/controls",
            "_view_module_version": "1.5.0",
            "_view_name": "HTMLView",
            "description": "",
            "description_tooltip": null,
            "layout": "IPY_MODEL_c5ead0f1451944749a310444dcc02d8f",
            "placeholder": "​",
            "style": "IPY_MODEL_d5842cbe1f814617bb2646a45d472079",
            "value": "Downloading (…)solve/main/vocab.txt: 100%"
          }
        },
        "d02bf7a3a47b471e833db4c52b0bc75c": {
          "model_module": "@jupyter-widgets/controls",
          "model_name": "FloatProgressModel",
          "model_module_version": "1.5.0",
          "state": {
            "_dom_classes": [],
            "_model_module": "@jupyter-widgets/controls",
            "_model_module_version": "1.5.0",
            "_model_name": "FloatProgressModel",
            "_view_count": null,
            "_view_module": "@jupyter-widgets/controls",
            "_view_module_version": "1.5.0",
            "_view_name": "ProgressView",
            "bar_style": "success",
            "description": "",
            "description_tooltip": null,
            "layout": "IPY_MODEL_f71ac8244965457faf810943975e4a49",
            "max": 231508,
            "min": 0,
            "orientation": "horizontal",
            "style": "IPY_MODEL_3bde4318c6b2432aa120bffbc11e7a86",
            "value": 231508
          }
        },
        "939dc24e4d3a48549ef3e0d5c3c0c42a": {
          "model_module": "@jupyter-widgets/controls",
          "model_name": "HTMLModel",
          "model_module_version": "1.5.0",
          "state": {
            "_dom_classes": [],
            "_model_module": "@jupyter-widgets/controls",
            "_model_module_version": "1.5.0",
            "_model_name": "HTMLModel",
            "_view_count": null,
            "_view_module": "@jupyter-widgets/controls",
            "_view_module_version": "1.5.0",
            "_view_name": "HTMLView",
            "description": "",
            "description_tooltip": null,
            "layout": "IPY_MODEL_c01663bfca574eddb884023de56fdce4",
            "placeholder": "​",
            "style": "IPY_MODEL_b6d32b77f3df43309e775c9f26ae4370",
            "value": " 232k/232k [00:00&lt;00:00, 2.81MB/s]"
          }
        },
        "ab6ed0e2ac4d47bebb13e93acaaec096": {
          "model_module": "@jupyter-widgets/base",
          "model_name": "LayoutModel",
          "model_module_version": "1.2.0",
          "state": {
            "_model_module": "@jupyter-widgets/base",
            "_model_module_version": "1.2.0",
            "_model_name": "LayoutModel",
            "_view_count": null,
            "_view_module": "@jupyter-widgets/base",
            "_view_module_version": "1.2.0",
            "_view_name": "LayoutView",
            "align_content": null,
            "align_items": null,
            "align_self": null,
            "border": null,
            "bottom": null,
            "display": null,
            "flex": null,
            "flex_flow": null,
            "grid_area": null,
            "grid_auto_columns": null,
            "grid_auto_flow": null,
            "grid_auto_rows": null,
            "grid_column": null,
            "grid_gap": null,
            "grid_row": null,
            "grid_template_areas": null,
            "grid_template_columns": null,
            "grid_template_rows": null,
            "height": null,
            "justify_content": null,
            "justify_items": null,
            "left": null,
            "margin": null,
            "max_height": null,
            "max_width": null,
            "min_height": null,
            "min_width": null,
            "object_fit": null,
            "object_position": null,
            "order": null,
            "overflow": null,
            "overflow_x": null,
            "overflow_y": null,
            "padding": null,
            "right": null,
            "top": null,
            "visibility": null,
            "width": null
          }
        },
        "c5ead0f1451944749a310444dcc02d8f": {
          "model_module": "@jupyter-widgets/base",
          "model_name": "LayoutModel",
          "model_module_version": "1.2.0",
          "state": {
            "_model_module": "@jupyter-widgets/base",
            "_model_module_version": "1.2.0",
            "_model_name": "LayoutModel",
            "_view_count": null,
            "_view_module": "@jupyter-widgets/base",
            "_view_module_version": "1.2.0",
            "_view_name": "LayoutView",
            "align_content": null,
            "align_items": null,
            "align_self": null,
            "border": null,
            "bottom": null,
            "display": null,
            "flex": null,
            "flex_flow": null,
            "grid_area": null,
            "grid_auto_columns": null,
            "grid_auto_flow": null,
            "grid_auto_rows": null,
            "grid_column": null,
            "grid_gap": null,
            "grid_row": null,
            "grid_template_areas": null,
            "grid_template_columns": null,
            "grid_template_rows": null,
            "height": null,
            "justify_content": null,
            "justify_items": null,
            "left": null,
            "margin": null,
            "max_height": null,
            "max_width": null,
            "min_height": null,
            "min_width": null,
            "object_fit": null,
            "object_position": null,
            "order": null,
            "overflow": null,
            "overflow_x": null,
            "overflow_y": null,
            "padding": null,
            "right": null,
            "top": null,
            "visibility": null,
            "width": null
          }
        },
        "d5842cbe1f814617bb2646a45d472079": {
          "model_module": "@jupyter-widgets/controls",
          "model_name": "DescriptionStyleModel",
          "model_module_version": "1.5.0",
          "state": {
            "_model_module": "@jupyter-widgets/controls",
            "_model_module_version": "1.5.0",
            "_model_name": "DescriptionStyleModel",
            "_view_count": null,
            "_view_module": "@jupyter-widgets/base",
            "_view_module_version": "1.2.0",
            "_view_name": "StyleView",
            "description_width": ""
          }
        },
        "f71ac8244965457faf810943975e4a49": {
          "model_module": "@jupyter-widgets/base",
          "model_name": "LayoutModel",
          "model_module_version": "1.2.0",
          "state": {
            "_model_module": "@jupyter-widgets/base",
            "_model_module_version": "1.2.0",
            "_model_name": "LayoutModel",
            "_view_count": null,
            "_view_module": "@jupyter-widgets/base",
            "_view_module_version": "1.2.0",
            "_view_name": "LayoutView",
            "align_content": null,
            "align_items": null,
            "align_self": null,
            "border": null,
            "bottom": null,
            "display": null,
            "flex": null,
            "flex_flow": null,
            "grid_area": null,
            "grid_auto_columns": null,
            "grid_auto_flow": null,
            "grid_auto_rows": null,
            "grid_column": null,
            "grid_gap": null,
            "grid_row": null,
            "grid_template_areas": null,
            "grid_template_columns": null,
            "grid_template_rows": null,
            "height": null,
            "justify_content": null,
            "justify_items": null,
            "left": null,
            "margin": null,
            "max_height": null,
            "max_width": null,
            "min_height": null,
            "min_width": null,
            "object_fit": null,
            "object_position": null,
            "order": null,
            "overflow": null,
            "overflow_x": null,
            "overflow_y": null,
            "padding": null,
            "right": null,
            "top": null,
            "visibility": null,
            "width": null
          }
        },
        "3bde4318c6b2432aa120bffbc11e7a86": {
          "model_module": "@jupyter-widgets/controls",
          "model_name": "ProgressStyleModel",
          "model_module_version": "1.5.0",
          "state": {
            "_model_module": "@jupyter-widgets/controls",
            "_model_module_version": "1.5.0",
            "_model_name": "ProgressStyleModel",
            "_view_count": null,
            "_view_module": "@jupyter-widgets/base",
            "_view_module_version": "1.2.0",
            "_view_name": "StyleView",
            "bar_color": null,
            "description_width": ""
          }
        },
        "c01663bfca574eddb884023de56fdce4": {
          "model_module": "@jupyter-widgets/base",
          "model_name": "LayoutModel",
          "model_module_version": "1.2.0",
          "state": {
            "_model_module": "@jupyter-widgets/base",
            "_model_module_version": "1.2.0",
            "_model_name": "LayoutModel",
            "_view_count": null,
            "_view_module": "@jupyter-widgets/base",
            "_view_module_version": "1.2.0",
            "_view_name": "LayoutView",
            "align_content": null,
            "align_items": null,
            "align_self": null,
            "border": null,
            "bottom": null,
            "display": null,
            "flex": null,
            "flex_flow": null,
            "grid_area": null,
            "grid_auto_columns": null,
            "grid_auto_flow": null,
            "grid_auto_rows": null,
            "grid_column": null,
            "grid_gap": null,
            "grid_row": null,
            "grid_template_areas": null,
            "grid_template_columns": null,
            "grid_template_rows": null,
            "height": null,
            "justify_content": null,
            "justify_items": null,
            "left": null,
            "margin": null,
            "max_height": null,
            "max_width": null,
            "min_height": null,
            "min_width": null,
            "object_fit": null,
            "object_position": null,
            "order": null,
            "overflow": null,
            "overflow_x": null,
            "overflow_y": null,
            "padding": null,
            "right": null,
            "top": null,
            "visibility": null,
            "width": null
          }
        },
        "b6d32b77f3df43309e775c9f26ae4370": {
          "model_module": "@jupyter-widgets/controls",
          "model_name": "DescriptionStyleModel",
          "model_module_version": "1.5.0",
          "state": {
            "_model_module": "@jupyter-widgets/controls",
            "_model_module_version": "1.5.0",
            "_model_name": "DescriptionStyleModel",
            "_view_count": null,
            "_view_module": "@jupyter-widgets/base",
            "_view_module_version": "1.2.0",
            "_view_name": "StyleView",
            "description_width": ""
          }
        },
        "7a9880f22602408ca11d35982190e0d7": {
          "model_module": "@jupyter-widgets/controls",
          "model_name": "HBoxModel",
          "model_module_version": "1.5.0",
          "state": {
            "_dom_classes": [],
            "_model_module": "@jupyter-widgets/controls",
            "_model_module_version": "1.5.0",
            "_model_name": "HBoxModel",
            "_view_count": null,
            "_view_module": "@jupyter-widgets/controls",
            "_view_module_version": "1.5.0",
            "_view_name": "HBoxView",
            "box_style": "",
            "children": [
              "IPY_MODEL_2336aff1cee14605b525203d55bfdab5",
              "IPY_MODEL_24386cca5fe04ddeba071e28f3e057f9",
              "IPY_MODEL_63675895948d4770b0e76332b8a3fed8"
            ],
            "layout": "IPY_MODEL_cf61e81735f4413da98413bb8d2d2e7f"
          }
        },
        "2336aff1cee14605b525203d55bfdab5": {
          "model_module": "@jupyter-widgets/controls",
          "model_name": "HTMLModel",
          "model_module_version": "1.5.0",
          "state": {
            "_dom_classes": [],
            "_model_module": "@jupyter-widgets/controls",
            "_model_module_version": "1.5.0",
            "_model_name": "HTMLModel",
            "_view_count": null,
            "_view_module": "@jupyter-widgets/controls",
            "_view_module_version": "1.5.0",
            "_view_name": "HTMLView",
            "description": "",
            "description_tooltip": null,
            "layout": "IPY_MODEL_6fc793bc6c39471a84344da32f44f83f",
            "placeholder": "​",
            "style": "IPY_MODEL_5673942281b447ca82ea3110c0ca8dab",
            "value": "Downloading (…)okenizer_config.json: 100%"
          }
        },
        "24386cca5fe04ddeba071e28f3e057f9": {
          "model_module": "@jupyter-widgets/controls",
          "model_name": "FloatProgressModel",
          "model_module_version": "1.5.0",
          "state": {
            "_dom_classes": [],
            "_model_module": "@jupyter-widgets/controls",
            "_model_module_version": "1.5.0",
            "_model_name": "FloatProgressModel",
            "_view_count": null,
            "_view_module": "@jupyter-widgets/controls",
            "_view_module_version": "1.5.0",
            "_view_name": "ProgressView",
            "bar_style": "success",
            "description": "",
            "description_tooltip": null,
            "layout": "IPY_MODEL_5258ffd6ed094d3489d6749535206461",
            "max": 28,
            "min": 0,
            "orientation": "horizontal",
            "style": "IPY_MODEL_f19f64900af841989cfd9cd73238daf3",
            "value": 28
          }
        },
        "63675895948d4770b0e76332b8a3fed8": {
          "model_module": "@jupyter-widgets/controls",
          "model_name": "HTMLModel",
          "model_module_version": "1.5.0",
          "state": {
            "_dom_classes": [],
            "_model_module": "@jupyter-widgets/controls",
            "_model_module_version": "1.5.0",
            "_model_name": "HTMLModel",
            "_view_count": null,
            "_view_module": "@jupyter-widgets/controls",
            "_view_module_version": "1.5.0",
            "_view_name": "HTMLView",
            "description": "",
            "description_tooltip": null,
            "layout": "IPY_MODEL_ada1e9b9e2714ee2b153484c8e770b21",
            "placeholder": "​",
            "style": "IPY_MODEL_ac25dcfef17b424295a9510d27c9d53a",
            "value": " 28.0/28.0 [00:00&lt;00:00, 1.12kB/s]"
          }
        },
        "cf61e81735f4413da98413bb8d2d2e7f": {
          "model_module": "@jupyter-widgets/base",
          "model_name": "LayoutModel",
          "model_module_version": "1.2.0",
          "state": {
            "_model_module": "@jupyter-widgets/base",
            "_model_module_version": "1.2.0",
            "_model_name": "LayoutModel",
            "_view_count": null,
            "_view_module": "@jupyter-widgets/base",
            "_view_module_version": "1.2.0",
            "_view_name": "LayoutView",
            "align_content": null,
            "align_items": null,
            "align_self": null,
            "border": null,
            "bottom": null,
            "display": null,
            "flex": null,
            "flex_flow": null,
            "grid_area": null,
            "grid_auto_columns": null,
            "grid_auto_flow": null,
            "grid_auto_rows": null,
            "grid_column": null,
            "grid_gap": null,
            "grid_row": null,
            "grid_template_areas": null,
            "grid_template_columns": null,
            "grid_template_rows": null,
            "height": null,
            "justify_content": null,
            "justify_items": null,
            "left": null,
            "margin": null,
            "max_height": null,
            "max_width": null,
            "min_height": null,
            "min_width": null,
            "object_fit": null,
            "object_position": null,
            "order": null,
            "overflow": null,
            "overflow_x": null,
            "overflow_y": null,
            "padding": null,
            "right": null,
            "top": null,
            "visibility": null,
            "width": null
          }
        },
        "6fc793bc6c39471a84344da32f44f83f": {
          "model_module": "@jupyter-widgets/base",
          "model_name": "LayoutModel",
          "model_module_version": "1.2.0",
          "state": {
            "_model_module": "@jupyter-widgets/base",
            "_model_module_version": "1.2.0",
            "_model_name": "LayoutModel",
            "_view_count": null,
            "_view_module": "@jupyter-widgets/base",
            "_view_module_version": "1.2.0",
            "_view_name": "LayoutView",
            "align_content": null,
            "align_items": null,
            "align_self": null,
            "border": null,
            "bottom": null,
            "display": null,
            "flex": null,
            "flex_flow": null,
            "grid_area": null,
            "grid_auto_columns": null,
            "grid_auto_flow": null,
            "grid_auto_rows": null,
            "grid_column": null,
            "grid_gap": null,
            "grid_row": null,
            "grid_template_areas": null,
            "grid_template_columns": null,
            "grid_template_rows": null,
            "height": null,
            "justify_content": null,
            "justify_items": null,
            "left": null,
            "margin": null,
            "max_height": null,
            "max_width": null,
            "min_height": null,
            "min_width": null,
            "object_fit": null,
            "object_position": null,
            "order": null,
            "overflow": null,
            "overflow_x": null,
            "overflow_y": null,
            "padding": null,
            "right": null,
            "top": null,
            "visibility": null,
            "width": null
          }
        },
        "5673942281b447ca82ea3110c0ca8dab": {
          "model_module": "@jupyter-widgets/controls",
          "model_name": "DescriptionStyleModel",
          "model_module_version": "1.5.0",
          "state": {
            "_model_module": "@jupyter-widgets/controls",
            "_model_module_version": "1.5.0",
            "_model_name": "DescriptionStyleModel",
            "_view_count": null,
            "_view_module": "@jupyter-widgets/base",
            "_view_module_version": "1.2.0",
            "_view_name": "StyleView",
            "description_width": ""
          }
        },
        "5258ffd6ed094d3489d6749535206461": {
          "model_module": "@jupyter-widgets/base",
          "model_name": "LayoutModel",
          "model_module_version": "1.2.0",
          "state": {
            "_model_module": "@jupyter-widgets/base",
            "_model_module_version": "1.2.0",
            "_model_name": "LayoutModel",
            "_view_count": null,
            "_view_module": "@jupyter-widgets/base",
            "_view_module_version": "1.2.0",
            "_view_name": "LayoutView",
            "align_content": null,
            "align_items": null,
            "align_self": null,
            "border": null,
            "bottom": null,
            "display": null,
            "flex": null,
            "flex_flow": null,
            "grid_area": null,
            "grid_auto_columns": null,
            "grid_auto_flow": null,
            "grid_auto_rows": null,
            "grid_column": null,
            "grid_gap": null,
            "grid_row": null,
            "grid_template_areas": null,
            "grid_template_columns": null,
            "grid_template_rows": null,
            "height": null,
            "justify_content": null,
            "justify_items": null,
            "left": null,
            "margin": null,
            "max_height": null,
            "max_width": null,
            "min_height": null,
            "min_width": null,
            "object_fit": null,
            "object_position": null,
            "order": null,
            "overflow": null,
            "overflow_x": null,
            "overflow_y": null,
            "padding": null,
            "right": null,
            "top": null,
            "visibility": null,
            "width": null
          }
        },
        "f19f64900af841989cfd9cd73238daf3": {
          "model_module": "@jupyter-widgets/controls",
          "model_name": "ProgressStyleModel",
          "model_module_version": "1.5.0",
          "state": {
            "_model_module": "@jupyter-widgets/controls",
            "_model_module_version": "1.5.0",
            "_model_name": "ProgressStyleModel",
            "_view_count": null,
            "_view_module": "@jupyter-widgets/base",
            "_view_module_version": "1.2.0",
            "_view_name": "StyleView",
            "bar_color": null,
            "description_width": ""
          }
        },
        "ada1e9b9e2714ee2b153484c8e770b21": {
          "model_module": "@jupyter-widgets/base",
          "model_name": "LayoutModel",
          "model_module_version": "1.2.0",
          "state": {
            "_model_module": "@jupyter-widgets/base",
            "_model_module_version": "1.2.0",
            "_model_name": "LayoutModel",
            "_view_count": null,
            "_view_module": "@jupyter-widgets/base",
            "_view_module_version": "1.2.0",
            "_view_name": "LayoutView",
            "align_content": null,
            "align_items": null,
            "align_self": null,
            "border": null,
            "bottom": null,
            "display": null,
            "flex": null,
            "flex_flow": null,
            "grid_area": null,
            "grid_auto_columns": null,
            "grid_auto_flow": null,
            "grid_auto_rows": null,
            "grid_column": null,
            "grid_gap": null,
            "grid_row": null,
            "grid_template_areas": null,
            "grid_template_columns": null,
            "grid_template_rows": null,
            "height": null,
            "justify_content": null,
            "justify_items": null,
            "left": null,
            "margin": null,
            "max_height": null,
            "max_width": null,
            "min_height": null,
            "min_width": null,
            "object_fit": null,
            "object_position": null,
            "order": null,
            "overflow": null,
            "overflow_x": null,
            "overflow_y": null,
            "padding": null,
            "right": null,
            "top": null,
            "visibility": null,
            "width": null
          }
        },
        "ac25dcfef17b424295a9510d27c9d53a": {
          "model_module": "@jupyter-widgets/controls",
          "model_name": "DescriptionStyleModel",
          "model_module_version": "1.5.0",
          "state": {
            "_model_module": "@jupyter-widgets/controls",
            "_model_module_version": "1.5.0",
            "_model_name": "DescriptionStyleModel",
            "_view_count": null,
            "_view_module": "@jupyter-widgets/base",
            "_view_module_version": "1.2.0",
            "_view_name": "StyleView",
            "description_width": ""
          }
        }
      }
    }
  },
  "nbformat": 4,
  "nbformat_minor": 0
}