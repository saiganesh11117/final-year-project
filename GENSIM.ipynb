{
  "nbformat": 4,
  "nbformat_minor": 0,
  "metadata": {
    "colab": {
      "provenance": []
    },
    "kernelspec": {
      "name": "python3",
      "display_name": "Python 3"
    },
    "language_info": {
      "name": "python"
    }
  },
  "cells": [
    {
      "cell_type": "code",
      "execution_count": null,
      "metadata": {
        "colab": {
          "base_uri": "https://localhost:8080/"
        },
        "id": "Iw2gHwsvmcjS",
        "outputId": "83448b38-0a4f-48b5-c532-65895395c07a"
      },
      "outputs": [
        {
          "output_type": "stream",
          "name": "stdout",
          "text": [
            "Looking in indexes: https://pypi.org/simple, https://us-python.pkg.dev/colab-wheels/public/simple/\n",
            "Collecting rake-nltk\n",
            "  Downloading rake_nltk-1.0.6-py3-none-any.whl (9.1 kB)\n",
            "Requirement already satisfied: nltk<4.0.0,>=3.6.2 in /usr/local/lib/python3.8/dist-packages (from rake-nltk) (3.7)\n",
            "Requirement already satisfied: regex>=2021.8.3 in /usr/local/lib/python3.8/dist-packages (from nltk<4.0.0,>=3.6.2->rake-nltk) (2022.6.2)\n",
            "Requirement already satisfied: joblib in /usr/local/lib/python3.8/dist-packages (from nltk<4.0.0,>=3.6.2->rake-nltk) (1.2.0)\n",
            "Requirement already satisfied: tqdm in /usr/local/lib/python3.8/dist-packages (from nltk<4.0.0,>=3.6.2->rake-nltk) (4.64.1)\n",
            "Requirement already satisfied: click in /usr/local/lib/python3.8/dist-packages (from nltk<4.0.0,>=3.6.2->rake-nltk) (7.1.2)\n",
            "Installing collected packages: rake-nltk\n",
            "Successfully installed rake-nltk-1.0.6\n"
          ]
        }
      ],
      "source": [
        "!pip install rake-nltk"
      ]
    },
    {
      "cell_type": "code",
      "source": [
        "from gensim.summarization import summarize\n",
        "from rake_nltk import Rake\n"
      ],
      "metadata": {
        "id": "ZPiTIzP9nKkS"
      },
      "execution_count": null,
      "outputs": []
    },
    {
      "cell_type": "code",
      "source": [
        "import logging, nltk\n",
        "logging.basicConfig(format='%(asctime)s : %(levelname)s : %(message)s', level=logging.INFO)\n",
        "nltk.download('stopwords')\n",
        "nltk.download('punkt')"
      ],
      "metadata": {
        "colab": {
          "base_uri": "https://localhost:8080/"
        },
        "id": "O5kGpGMDo6S_",
        "outputId": "f2a487a1-a292-465a-d975-3833b191010a"
      },
      "execution_count": null,
      "outputs": [
        {
          "output_type": "stream",
          "name": "stderr",
          "text": [
            "[nltk_data] Downloading package stopwords to /root/nltk_data...\n",
            "[nltk_data]   Unzipping corpora/stopwords.zip.\n",
            "[nltk_data] Downloading package punkt to /root/nltk_data...\n",
            "[nltk_data]   Unzipping tokenizers/punkt.zip.\n"
          ]
        },
        {
          "output_type": "execute_result",
          "data": {
            "text/plain": [
              "True"
            ]
          },
          "metadata": {},
          "execution_count": 4
        }
      ]
    },
    {
      "cell_type": "code",
      "source": [
        "from google.colab import drive\n",
        "drive.mount('/content/gdrive')"
      ],
      "metadata": {
        "colab": {
          "base_uri": "https://localhost:8080/"
        },
        "id": "aiKzVmNuo_JU",
        "outputId": "a1ef1e08-0f68-4d12-fbe6-1ea1543b5099"
      },
      "execution_count": null,
      "outputs": [
        {
          "output_type": "stream",
          "name": "stdout",
          "text": [
            "Mounted at /content/gdrive\n"
          ]
        }
      ]
    },
    {
      "cell_type": "code",
      "source": [
        "with open(\"/content/gdrive/MyDrive/project/story.txt\") as f:\n",
        "  body = f.read()"
      ],
      "metadata": {
        "id": "yxVxBBJTgHTb"
      },
      "execution_count": null,
      "outputs": []
    },
    {
      "cell_type": "code",
      "source": [
        "r = Rake()\n",
        "r.extract_keywords_from_text(body)"
      ],
      "metadata": {
        "id": "B2nZxatDpRSp"
      },
      "execution_count": null,
      "outputs": []
    },
    {
      "cell_type": "code",
      "source": [
        "print ('Input Text:')\n",
        "print (body)"
      ],
      "metadata": {
        "colab": {
          "base_uri": "https://localhost:8080/"
        },
        "id": "ouSYw5SJpWLT",
        "outputId": "b02d25a5-eaf5-4ba5-9dde-3f763408e98c"
      },
      "execution_count": null,
      "outputs": [
        {
          "output_type": "stream",
          "name": "stdout",
          "text": [
            "Input Text:\n",
            "\n",
            "IN WHICH PHILEAS FOGG AND PASSEPARTOUT ACCEPT EACH OTHER,\n",
            "THE ONE AS MASTER, THE OTHER AS MAN\n",
            "\n",
            "\n",
            "Mr. Phileas Fogg lived, in 1872, at No. 7, Saville Row, Burlington\n",
            "Gardens, the house in which Sheridan died in 1814.  He was one of the\n",
            "most noticeable members of the Reform Club, though he seemed always to\n",
            "avoid attracting attention; an enigmatical personage, about whom little\n",
            "was known, except that he was a polished man of the world.  People said\n",
            "that he resembled Byron--at least that his head was Byronic; but he was\n",
            "a bearded, tranquil Byron, who might live on a thousand years without\n",
            "growing old.\n",
            "\n",
            "Certainly an Englishman, it was more doubtful whether Phileas Fogg was\n",
            "a Londoner.  He was never seen on 'Change, nor at the Bank, nor in the\n",
            "counting-rooms of the \"City\"; no ships ever came into London docks of\n",
            "which he was the owner; he had no public employment; he had never been\n",
            "entered at any of the Inns of Court, either at the Temple, or Lincoln's\n",
            "Inn, or Gray's Inn; nor had his voice ever resounded in the Court of\n",
            "Chancery, or in the Exchequer, or the Queen's Bench, or the\n",
            "Ecclesiastical Courts.  He certainly was not a manufacturer; nor was he\n",
            "a merchant or a gentleman farmer.  His name was strange to the\n",
            "scientific and learned societies, and he never was known to take part\n",
            "in the sage deliberations of the Royal Institution or the London\n",
            "Institution, the Artisan's Association, or the Institution of Arts and\n",
            "Sciences.  He belonged, in fact, to none of the numerous societies\n",
            "which swarm in the English capital, from the Harmonic to that of the\n",
            "Entomologists, founded mainly for the purpose of abolishing pernicious\n",
            "insects.\n",
            "\n",
            "Phileas Fogg was a member of the Reform, and that was all.\n",
            "\n",
            "The way in which he got admission to this exclusive club was simple\n",
            "enough.\n",
            "\n",
            "He was recommended by the Barings, with whom he had an open credit.\n",
            "His cheques were regularly paid at sight from his account current,\n",
            "which was always flush.\n",
            "\n",
            "Was Phileas Fogg rich?  Undoubtedly.  But those who knew him best could\n",
            "not imagine how he had made his fortune, and Mr. Fogg was the last\n",
            "person to whom to apply for the information.  He was not lavish, nor,\n",
            "on the contrary, avaricious; for, whenever he knew that money was\n",
            "needed for a noble, useful, or benevolent purpose, he supplied it\n",
            "quietly and sometimes anonymously.  He was, in short, the least\n",
            "communicative of men.  He talked very little, and seemed all the more\n",
            "mysterious for his taciturn manner.  His daily habits were quite open\n",
            "to observation; but whatever he did was so exactly the same thing that\n",
            "he had always done before, that the wits of the curious were fairly\n",
            "puzzled.\n",
            "\n",
            "Had he travelled?  It was likely, for no one seemed to know the world\n",
            "more familiarly; there was no spot so secluded that he did not appear\n",
            "to have an intimate acquaintance with it.  He often corrected, with a\n",
            "few clear words, the thousand conjectures advanced by members of the\n",
            "club as to lost and unheard-of travellers, pointing out the true\n",
            "probabilities, and seeming as if gifted with a sort of second sight, so\n",
            "often did events justify his predictions.  He must have travelled\n",
            "everywhere, at least in the spirit.\n",
            "\n",
            "It was at least certain that Phileas Fogg had not absented himself from\n",
            "London for many years.  Those who were honoured by a better\n",
            "acquaintance with him than the rest, declared that nobody could pretend\n",
            "to have ever seen him anywhere else.  His sole pastimes were reading\n",
            "the papers and playing whist.  He often won at this game, which, as a\n",
            "silent one, harmonised with his nature; but his winnings never went\n",
            "into his purse, being reserved as a fund for his charities.  Mr. Fogg\n",
            "played, not to win, but for the sake of playing.  The game was in his\n",
            "eyes a contest, a struggle with a difficulty, yet a motionless,\n",
            "unwearying struggle, congenial to his tastes.\n",
            "\n",
            "Phileas Fogg was not known to have either wife or children, which may\n",
            "happen to the most honest people; either relatives or near friends,\n",
            "which is certainly more unusual.  He lived alone in his house in\n",
            "Saville Row, whither none penetrated.  A single domestic sufficed to\n",
            "serve him.  He breakfasted and dined at the club, at hours\n",
            "mathematically fixed, in the same room, at the same table, never taking\n",
            "his meals with other members, much less bringing a guest with him; and\n",
            "went home at exactly midnight, only to retire at once to bed.  He never\n",
            "used the cosy chambers which the Reform provides for its favoured\n",
            "members.  He passed ten hours out of the twenty-four in Saville Row,\n",
            "either in sleeping or making his toilet.  When he chose to take a walk\n",
            "it was with a regular step in the entrance hall with its mosaic\n",
            "flooring, or in the circular gallery with its dome supported by twenty\n",
            "red porphyry Ionic columns, and illumined by blue painted windows.\n",
            "When he breakfasted or dined all the resources of the club--its\n",
            "kitchens and pantries, its buttery and dairy--aided to crowd his table\n",
            "with their most succulent stores; he was served by the gravest waiters,\n",
            "in dress coats, and shoes with swan-skin soles, who proffered the\n",
            "viands in special porcelain, and on the finest linen; club decanters,\n",
            "of a lost mould, contained his sherry, his port, and his\n",
            "cinnamon-spiced claret; while his beverages were refreshingly cooled\n",
            "with ice, brought at great cost from the American lakes.\n",
            "\n",
            "If to live in this style is to be eccentric, it must be confessed that\n",
            "there is something good in eccentricity.\n",
            "\n",
            "The mansion in Saville Row, though not sumptuous, was exceedingly\n",
            "comfortable.  The habits of its occupant were such as to demand but\n",
            "little from the sole domestic, but Phileas Fogg required him to be\n",
            "almost superhumanly prompt and regular.  On this very 2nd of October he\n",
            "had dismissed James Forster, because that luckless youth had brought\n",
            "him shaving-water at eighty-four degrees Fahrenheit instead of\n",
            "eighty-six; and he was awaiting his successor, who was due at the house\n",
            "between eleven and half-past.\n",
            "\n",
            "Phileas Fogg was seated squarely in his armchair, his feet close\n",
            "together like those of a grenadier on parade, his hands resting on his\n",
            "knees, his body straight, his head erect; he was steadily watching a\n",
            "complicated clock which indicated the hours, the minutes, the seconds,\n",
            "the days, the months, and the years.  At exactly half-past eleven Mr.\n",
            "Fogg would, according to his daily habit, quit Saville Row, and repair\n",
            "to the Reform.\n",
            "\n",
            "A rap at this moment sounded on the door of the cosy apartment where\n",
            "Phileas Fogg was seated, and James Forster, the dismissed servant,\n",
            "appeared.\n",
            "\n",
            "\"The new servant,\" said he.\n",
            "\n",
            "A young man of thirty advanced and bowed.\n",
            "\n",
            "\"You are a Frenchman, I believe,\" asked Phileas Fogg, \"and your name is\n",
            "John?\"\n",
            "\n",
            "\"Jean, if monsieur pleases,\" replied the newcomer, \"Jean Passepartout,\n",
            "a surname which has clung to me because I have a natural aptness for\n",
            "going out of one business into another.  I believe I'm honest,\n",
            "monsieur, but, to be outspoken, I've had several trades.  I've been an\n",
            "itinerant singer, a circus-rider, when I used to vault like Leotard,\n",
            "and dance on a rope like Blondin.  Then I got to be a professor of\n",
            "gymnastics, so as to make better use of my talents; and then I was a\n",
            "sergeant fireman at Paris, and assisted at many a big fire.  But I\n",
            "quitted France five years ago, and, wishing to taste the sweets of\n",
            "domestic life, took service as a valet here in England.  Finding myself\n",
            "out of place, and hearing that Monsieur Phileas Fogg was the most exact\n",
            "and settled gentleman in the United Kingdom, I have come to monsieur in\n",
            "the hope of living with him a tranquil life, and forgetting even the\n",
            "name of Passepartout.\"\n",
            "\n",
            "\"Passepartout suits me,\" responded Mr. Fogg.  \"You are well recommended\n",
            "to me; I hear a good report of you.  You know my conditions?\"\n",
            "\n",
            "\"Yes, monsieur.\"\n",
            "\n",
            "\"Good!  What time is it?\"\n",
            "\n",
            "\"Twenty-two minutes after eleven,\" returned Passepartout, drawing an\n",
            "enormous silver watch from the depths of his pocket.\n",
            "\n",
            "\"You are too slow,\" said Mr. Fogg.\n",
            "\n",
            "\"Pardon me, monsieur, it is impossible--\"\n",
            "\n",
            "\"You are four minutes too slow.  No matter; it's enough to mention the\n",
            "error.  Now from this moment, twenty-nine minutes after eleven, a.m.,\n",
            "this Wednesday, 2nd October, you are in my service.\"\n",
            "\n",
            "Phileas Fogg got up, took his hat in his left hand, put it on his head\n",
            "with an automatic motion, and went off without a word.\n",
            "\n",
            "Passepartout heard the street door shut once; it was his new master\n",
            "going out.  He heard it shut again; it was his predecessor, James\n",
            "Forster, departing in his turn.  Passepartout remained alone in the\n",
            "house in Saville Row.\n"
          ]
        }
      ]
    },
    {
      "cell_type": "code",
      "source": [
        "print ('Input Text:')\n",
        "print (body)"
      ],
      "metadata": {
        "colab": {
          "base_uri": "https://localhost:8080/"
        },
        "id": "PgJuC2DLpYSH",
        "outputId": "d27822de-cafa-4ee1-8bdd-15ad4d857003"
      },
      "execution_count": null,
      "outputs": [
        {
          "output_type": "stream",
          "name": "stdout",
          "text": [
            "Input Text:\n",
            "\n",
            "IN WHICH PHILEAS FOGG AND PASSEPARTOUT ACCEPT EACH OTHER,\n",
            "THE ONE AS MASTER, THE OTHER AS MAN\n",
            "\n",
            "\n",
            "Mr. Phileas Fogg lived, in 1872, at No. 7, Saville Row, Burlington\n",
            "Gardens, the house in which Sheridan died in 1814.  He was one of the\n",
            "most noticeable members of the Reform Club, though he seemed always to\n",
            "avoid attracting attention; an enigmatical personage, about whom little\n",
            "was known, except that he was a polished man of the world.  People said\n",
            "that he resembled Byron--at least that his head was Byronic; but he was\n",
            "a bearded, tranquil Byron, who might live on a thousand years without\n",
            "growing old.\n",
            "\n",
            "Certainly an Englishman, it was more doubtful whether Phileas Fogg was\n",
            "a Londoner.  He was never seen on 'Change, nor at the Bank, nor in the\n",
            "counting-rooms of the \"City\"; no ships ever came into London docks of\n",
            "which he was the owner; he had no public employment; he had never been\n",
            "entered at any of the Inns of Court, either at the Temple, or Lincoln's\n",
            "Inn, or Gray's Inn; nor had his voice ever resounded in the Court of\n",
            "Chancery, or in the Exchequer, or the Queen's Bench, or the\n",
            "Ecclesiastical Courts.  He certainly was not a manufacturer; nor was he\n",
            "a merchant or a gentleman farmer.  His name was strange to the\n",
            "scientific and learned societies, and he never was known to take part\n",
            "in the sage deliberations of the Royal Institution or the London\n",
            "Institution, the Artisan's Association, or the Institution of Arts and\n",
            "Sciences.  He belonged, in fact, to none of the numerous societies\n",
            "which swarm in the English capital, from the Harmonic to that of the\n",
            "Entomologists, founded mainly for the purpose of abolishing pernicious\n",
            "insects.\n",
            "\n",
            "Phileas Fogg was a member of the Reform, and that was all.\n",
            "\n",
            "The way in which he got admission to this exclusive club was simple\n",
            "enough.\n",
            "\n",
            "He was recommended by the Barings, with whom he had an open credit.\n",
            "His cheques were regularly paid at sight from his account current,\n",
            "which was always flush.\n",
            "\n",
            "Was Phileas Fogg rich?  Undoubtedly.  But those who knew him best could\n",
            "not imagine how he had made his fortune, and Mr. Fogg was the last\n",
            "person to whom to apply for the information.  He was not lavish, nor,\n",
            "on the contrary, avaricious; for, whenever he knew that money was\n",
            "needed for a noble, useful, or benevolent purpose, he supplied it\n",
            "quietly and sometimes anonymously.  He was, in short, the least\n",
            "communicative of men.  He talked very little, and seemed all the more\n",
            "mysterious for his taciturn manner.  His daily habits were quite open\n",
            "to observation; but whatever he did was so exactly the same thing that\n",
            "he had always done before, that the wits of the curious were fairly\n",
            "puzzled.\n",
            "\n",
            "Had he travelled?  It was likely, for no one seemed to know the world\n",
            "more familiarly; there was no spot so secluded that he did not appear\n",
            "to have an intimate acquaintance with it.  He often corrected, with a\n",
            "few clear words, the thousand conjectures advanced by members of the\n",
            "club as to lost and unheard-of travellers, pointing out the true\n",
            "probabilities, and seeming as if gifted with a sort of second sight, so\n",
            "often did events justify his predictions.  He must have travelled\n",
            "everywhere, at least in the spirit.\n",
            "\n",
            "It was at least certain that Phileas Fogg had not absented himself from\n",
            "London for many years.  Those who were honoured by a better\n",
            "acquaintance with him than the rest, declared that nobody could pretend\n",
            "to have ever seen him anywhere else.  His sole pastimes were reading\n",
            "the papers and playing whist.  He often won at this game, which, as a\n",
            "silent one, harmonised with his nature; but his winnings never went\n",
            "into his purse, being reserved as a fund for his charities.  Mr. Fogg\n",
            "played, not to win, but for the sake of playing.  The game was in his\n",
            "eyes a contest, a struggle with a difficulty, yet a motionless,\n",
            "unwearying struggle, congenial to his tastes.\n",
            "\n",
            "Phileas Fogg was not known to have either wife or children, which may\n",
            "happen to the most honest people; either relatives or near friends,\n",
            "which is certainly more unusual.  He lived alone in his house in\n",
            "Saville Row, whither none penetrated.  A single domestic sufficed to\n",
            "serve him.  He breakfasted and dined at the club, at hours\n",
            "mathematically fixed, in the same room, at the same table, never taking\n",
            "his meals with other members, much less bringing a guest with him; and\n",
            "went home at exactly midnight, only to retire at once to bed.  He never\n",
            "used the cosy chambers which the Reform provides for its favoured\n",
            "members.  He passed ten hours out of the twenty-four in Saville Row,\n",
            "either in sleeping or making his toilet.  When he chose to take a walk\n",
            "it was with a regular step in the entrance hall with its mosaic\n",
            "flooring, or in the circular gallery with its dome supported by twenty\n",
            "red porphyry Ionic columns, and illumined by blue painted windows.\n",
            "When he breakfasted or dined all the resources of the club--its\n",
            "kitchens and pantries, its buttery and dairy--aided to crowd his table\n",
            "with their most succulent stores; he was served by the gravest waiters,\n",
            "in dress coats, and shoes with swan-skin soles, who proffered the\n",
            "viands in special porcelain, and on the finest linen; club decanters,\n",
            "of a lost mould, contained his sherry, his port, and his\n",
            "cinnamon-spiced claret; while his beverages were refreshingly cooled\n",
            "with ice, brought at great cost from the American lakes.\n",
            "\n",
            "If to live in this style is to be eccentric, it must be confessed that\n",
            "there is something good in eccentricity.\n",
            "\n",
            "The mansion in Saville Row, though not sumptuous, was exceedingly\n",
            "comfortable.  The habits of its occupant were such as to demand but\n",
            "little from the sole domestic, but Phileas Fogg required him to be\n",
            "almost superhumanly prompt and regular.  On this very 2nd of October he\n",
            "had dismissed James Forster, because that luckless youth had brought\n",
            "him shaving-water at eighty-four degrees Fahrenheit instead of\n",
            "eighty-six; and he was awaiting his successor, who was due at the house\n",
            "between eleven and half-past.\n",
            "\n",
            "Phileas Fogg was seated squarely in his armchair, his feet close\n",
            "together like those of a grenadier on parade, his hands resting on his\n",
            "knees, his body straight, his head erect; he was steadily watching a\n",
            "complicated clock which indicated the hours, the minutes, the seconds,\n",
            "the days, the months, and the years.  At exactly half-past eleven Mr.\n",
            "Fogg would, according to his daily habit, quit Saville Row, and repair\n",
            "to the Reform.\n",
            "\n",
            "A rap at this moment sounded on the door of the cosy apartment where\n",
            "Phileas Fogg was seated, and James Forster, the dismissed servant,\n",
            "appeared.\n",
            "\n",
            "\"The new servant,\" said he.\n",
            "\n",
            "A young man of thirty advanced and bowed.\n",
            "\n",
            "\"You are a Frenchman, I believe,\" asked Phileas Fogg, \"and your name is\n",
            "John?\"\n",
            "\n",
            "\"Jean, if monsieur pleases,\" replied the newcomer, \"Jean Passepartout,\n",
            "a surname which has clung to me because I have a natural aptness for\n",
            "going out of one business into another.  I believe I'm honest,\n",
            "monsieur, but, to be outspoken, I've had several trades.  I've been an\n",
            "itinerant singer, a circus-rider, when I used to vault like Leotard,\n",
            "and dance on a rope like Blondin.  Then I got to be a professor of\n",
            "gymnastics, so as to make better use of my talents; and then I was a\n",
            "sergeant fireman at Paris, and assisted at many a big fire.  But I\n",
            "quitted France five years ago, and, wishing to taste the sweets of\n",
            "domestic life, took service as a valet here in England.  Finding myself\n",
            "out of place, and hearing that Monsieur Phileas Fogg was the most exact\n",
            "and settled gentleman in the United Kingdom, I have come to monsieur in\n",
            "the hope of living with him a tranquil life, and forgetting even the\n",
            "name of Passepartout.\"\n",
            "\n",
            "\"Passepartout suits me,\" responded Mr. Fogg.  \"You are well recommended\n",
            "to me; I hear a good report of you.  You know my conditions?\"\n",
            "\n",
            "\"Yes, monsieur.\"\n",
            "\n",
            "\"Good!  What time is it?\"\n",
            "\n",
            "\"Twenty-two minutes after eleven,\" returned Passepartout, drawing an\n",
            "enormous silver watch from the depths of his pocket.\n",
            "\n",
            "\"You are too slow,\" said Mr. Fogg.\n",
            "\n",
            "\"Pardon me, monsieur, it is impossible--\"\n",
            "\n",
            "\"You are four minutes too slow.  No matter; it's enough to mention the\n",
            "error.  Now from this moment, twenty-nine minutes after eleven, a.m.,\n",
            "this Wednesday, 2nd October, you are in my service.\"\n",
            "\n",
            "Phileas Fogg got up, took his hat in his left hand, put it on his head\n",
            "with an automatic motion, and went off without a word.\n",
            "\n",
            "Passepartout heard the street door shut once; it was his new master\n",
            "going out.  He heard it shut again; it was his predecessor, James\n",
            "Forster, departing in his turn.  Passepartout remained alone in the\n",
            "house in Saville Row.\n"
          ]
        }
      ]
    },
    {
      "cell_type": "code",
      "source": [
        "print ('Output Keywords:')\n",
        "print (r.get_ranked_phrases()[0:15])"
      ],
      "metadata": {
        "colab": {
          "base_uri": "https://localhost:8080/"
        },
        "id": "xf6VuNVOpi9y",
        "outputId": "c780741c-629f-40a4-aff8-604620d9f586"
      },
      "execution_count": null,
      "outputs": [
        {
          "output_type": "stream",
          "name": "stdout",
          "text": [
            "Output Keywords:\n",
            "['quitted france five years ago', 'twenty red porphyry ionic columns', 'thousand years without growing old', 'believe ,\" asked phileas fogg', 'feet close together like', 'four degrees fahrenheit instead', 'monsieur pleases ,\" replied', 'new servant ,\" said', 'doubtful whether phileas fogg', 'eleven ,\" returned passepartout', 'slow ,\" said mr', 'thousand conjectures advanced', 'vault like leotard', 'rope like blondin', ',\" responded mr']\n"
          ]
        }
      ]
    },
    {
      "cell_type": "code",
      "source": [
        "ouput_summary = (summarize(body))\n",
        "print (ouput_summary)"
      ],
      "metadata": {
        "colab": {
          "base_uri": "https://localhost:8080/"
        },
        "id": "Ko_lK3mPhqxR",
        "outputId": "273b2793-a09d-4637-9484-3b5efcf0f71c"
      },
      "execution_count": null,
      "outputs": [
        {
          "output_type": "stream",
          "name": "stdout",
          "text": [
            "IN WHICH PHILEAS FOGG AND PASSEPARTOUT ACCEPT EACH OTHER,\n",
            "Mr. Phileas Fogg lived, in 1872, at No. 7, Saville Row, Burlington\n",
            "most noticeable members of the Reform Club, though he seemed always to\n",
            "a bearded, tranquil Byron, who might live on a thousand years without\n",
            "Certainly an Englishman, it was more doubtful whether Phileas Fogg was\n",
            "Phileas Fogg was a member of the Reform, and that was all.\n",
            "Was Phileas Fogg rich?\n",
            "needed for a noble, useful, or benevolent purpose, he supplied it\n",
            "It was likely, for no one seemed to know the world\n",
            "few clear words, the thousand conjectures advanced by members of the\n",
            "club as to lost and unheard-of travellers, pointing out the true\n",
            "It was at least certain that Phileas Fogg had not absented himself from\n",
            "London for many years.\n",
            "silent one, harmonised with his nature; but his winnings never went\n",
            "Mr. Fogg\n",
            "Phileas Fogg was not known to have either wife or children, which may\n",
            "He lived alone in his house in\n",
            "He breakfasted and dined at the club, at hours\n",
            "He passed ten hours out of the twenty-four in Saville Row,\n",
            "little from the sole domestic, but Phileas Fogg required him to be\n",
            "Phileas Fogg was seated squarely in his armchair, his feet close\n",
            "together like those of a grenadier on parade, his hands resting on his\n",
            "At exactly half-past eleven Mr. Fogg would, according to his daily habit, quit Saville Row, and repair\n",
            "Phileas Fogg was seated, and James Forster, the dismissed servant,\n",
            "\"You are a Frenchman, I believe,\" asked Phileas Fogg, \"and your name is\n",
            "\"Jean, if monsieur pleases,\" replied the newcomer, \"Jean Passepartout,\n",
            "gymnastics, so as to make better use of my talents; and then I was a\n",
            "out of place, and hearing that Monsieur Phileas Fogg was the most exact\n",
            "\"Passepartout suits me,\" responded Mr. Fogg.\n",
            "\"Twenty-two minutes after eleven,\" returned Passepartout, drawing an\n",
            "\"You are too slow,\" said Mr. Fogg.\n",
            "Phileas Fogg got up, took his hat in his left hand, put it on his head\n",
            "Passepartout heard the street door shut once; it was his new master\n",
            "house in Saville Row.\n"
          ]
        }
      ]
    },
    {
      "cell_type": "code",
      "source": [
        "import spacy\n",
        "nlp = spacy.load('en_core_web_sm')\n",
        "doc1 = nlp(u'/content/gdrive/MyDrive/project/sum.txt')\n",
        "doc2 = nlp(u'/content/gdrive/MyDrive/project/genism summary.txt')\n",
        "n = (doc1.similarity(doc2))\n",
        "print(n*100)"
      ],
      "metadata": {
        "colab": {
          "base_uri": "https://localhost:8080/"
        },
        "id": "g_ldiBBaTgtX",
        "outputId": "a321e783-81bc-44d0-dfdf-b2633b421429"
      },
      "execution_count": null,
      "outputs": [
        {
          "output_type": "stream",
          "name": "stdout",
          "text": [
            "96.86042555640647\n"
          ]
        },
        {
          "output_type": "stream",
          "name": "stderr",
          "text": [
            "<ipython-input-12-0d76b852a979>:5: UserWarning: [W007] The model you're using has no word vectors loaded, so the result of the Doc.similarity method will be based on the tagger, parser and NER, which may not give useful similarity judgements. This may happen if you're using one of the small models, e.g. `en_core_web_sm`, which don't ship with word vectors and only use context-sensitive tensors. You can always add your own word vectors, or use one of the larger models instead if available.\n",
            "  n = (doc1.similarity(doc2))\n"
          ]
        }
      ]
    },
    {
      "cell_type": "code",
      "source": [
        "import spacy\n",
        "nlp = spacy.load('en_core_web_sm')\n",
        "doc1 = nlp(u'/content/gdrive/MyDrive/project/sum2.0.txt')\n",
        "doc2 = nlp(u'/content/gdrive/MyDrive/project/genism summary.txt')\n",
        "n = (doc1.similarity(doc2))\n",
        "print(n*100)"
      ],
      "metadata": {
        "id": "F9q5iV1-UYYX",
        "colab": {
          "base_uri": "https://localhost:8080/"
        },
        "outputId": "0135e908-c4fe-4774-a85d-6089c1d21112"
      },
      "execution_count": null,
      "outputs": [
        {
          "output_type": "stream",
          "name": "stdout",
          "text": [
            "96.58570072709288\n"
          ]
        },
        {
          "output_type": "stream",
          "name": "stderr",
          "text": [
            "<ipython-input-13-3aacd7983dd1>:5: UserWarning: [W007] The model you're using has no word vectors loaded, so the result of the Doc.similarity method will be based on the tagger, parser and NER, which may not give useful similarity judgements. This may happen if you're using one of the small models, e.g. `en_core_web_sm`, which don't ship with word vectors and only use context-sensitive tensors. You can always add your own word vectors, or use one of the larger models instead if available.\n",
            "  n = (doc1.similarity(doc2))\n"
          ]
        }
      ]
    },
    {
      "cell_type": "code",
      "source": [
        "\n",
        "import spacy\n",
        "nlp = spacy.load('en_core_web_sm')\n",
        "doc1 = nlp(u'/content/gdrive/MyDrive/project/sum3.0.txt')\n",
        "doc2 = nlp(u'/content/gdrive/MyDrive/project/genism summary.txt')\n",
        "n = (doc1.similarity(doc2))\n",
        "print(n*100)"
      ],
      "metadata": {
        "colab": {
          "base_uri": "https://localhost:8080/"
        },
        "id": "3VO7FnoTYcyG",
        "outputId": "05865a70-2058-4456-e52f-335013c5fc1a"
      },
      "execution_count": null,
      "outputs": [
        {
          "output_type": "stream",
          "name": "stderr",
          "text": [
            "/usr/local/lib/python3.8/dist-packages/torch/cuda/__init__.py:497: UserWarning: Can't initialize NVML\n",
            "  warnings.warn(\"Can't initialize NVML\")\n"
          ]
        },
        {
          "output_type": "stream",
          "name": "stdout",
          "text": [
            "95.64002132655324\n"
          ]
        },
        {
          "output_type": "stream",
          "name": "stderr",
          "text": [
            "<ipython-input-1-ef20310ed7be>:5: UserWarning: [W007] The model you're using has no word vectors loaded, so the result of the Doc.similarity method will be based on the tagger, parser and NER, which may not give useful similarity judgements. This may happen if you're using one of the small models, e.g. `en_core_web_sm`, which don't ship with word vectors and only use context-sensitive tensors. You can always add your own word vectors, or use one of the larger models instead if available.\n",
            "  n = (doc1.similarity(doc2))\n"
          ]
        }
      ]
    },
    {
      "cell_type": "code",
      "source": [],
      "metadata": {
        "id": "QBKTeZ8yZ1zs"
      },
      "execution_count": null,
      "outputs": []
    }
  ]
}